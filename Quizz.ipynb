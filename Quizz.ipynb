{
  "nbformat": 4,
  "nbformat_minor": 0,
  "metadata": {
    "colab": {
      "provenance": []
    },
    "kernelspec": {
      "name": "python3",
      "display_name": "Python 3"
    },
    "language_info": {
      "name": "python"
    }
  },
  "cells": [
    {
      "cell_type": "code",
      "execution_count": null,
      "metadata": {
        "id": "EWbCUYp2uf2h"
      },
      "outputs": [],
      "source": [
        "class Quiz():\n",
        "  def __init__(self,chance, questions, reponses):\n",
        "    self.nb_chances = chance\n",
        "    self.questions = questions\n",
        "    self.reponses = reponses\n",
        "    print(f\"Voici notre quiz, tu as {str(self.nb_chances)} chances !\")\n",
        "\n",
        "  def ask_question(self):\n",
        "      for question , reponse in zip(self.questions, self.reponses):\n",
        "        reponse_user = input(question)\n",
        "        if any(ele.isupper() for ele in reponse_user):\n",
        "          reponse_user = reponse_user.lower()\n",
        "        print(str(reponse_user))\n",
        "        while str(reponse_user) != reponse:\n",
        "          self.nb_chances -= 1\n",
        "          print(\"Dommage ! Il te reste {} chances\".format(self.nb_chances))\n",
        "          if self.nb_chances == 0:\n",
        "            print(\"Oh non ! Tu as perdu le jeu...\")\n",
        "            break\n",
        "        reponse_user = input(question)\n",
        "\n"
      ]
    },
    {
      "cell_type": "code",
      "source": [
        "quiz = Quiz(3,[\"Combien de fois la France a gagné la coupe du monde ? \", \"Quand a été fondé Apple ? \", \"Qui a fondé SpaceX ? \"],\n",
        "            [\"2\",\"1976\",\"elon musk\"])\n",
        "quiz.ask_question()"
      ],
      "metadata": {
        "id": "B30blbx1ummW"
      },
      "execution_count": null,
      "outputs": []
    }
  ]
}