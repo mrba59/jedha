{
 "cells": [
  {
   "cell_type": "code",
   "execution_count": 5,
   "metadata": {
    "id": "EWbCUYp2uf2h",
    "tags": []
   },
   "outputs": [],
   "source": [
    "class Quiz():\n",
    "  def __init__(self,chance, questions, reponses):\n",
    "    self.nb_chances = chance\n",
    "    self.questions = questions\n",
    "    self.reponses = reponses\n",
    "    print(f\"Voici notre quiz, tu as {str(self.nb_chances)} chances !\")\n",
    "\n",
    "  def ask_question(self):\n",
    "    perdu = False\n",
    "    for question , reponse in zip(self.questions, self.reponses):\n",
    "        reponse_user = input(question)\n",
    "        if any(ele.isupper() for ele in reponse_user):\n",
    "            reponse_user = reponse_user.lower()\n",
    "            print(str(reponse_user))\n",
    "        while str(reponse_user) != reponse:\n",
    "            self.nb_chances -= 1\n",
    "            print(\"Dommage ! Il te reste {} chances\".format(self.nb_chances))\n",
    "            if self.nb_chances == 0:\n",
    "                print(\"Oh non ! Tu as perdu le jeu...\")\n",
    "                perdu = True\n",
    "                break\n",
    "            reponse_user = input(question)\n",
    "            if any(ele.isupper() for ele in reponse_user):\n",
    "                reponse_user = reponse_user.lower()\n",
    "        if perdu:\n",
    "            break"
   ]
  },
  {
   "cell_type": "code",
   "execution_count": 6,
   "metadata": {
    "id": "B30blbx1ummW",
    "tags": []
   },
   "outputs": [
    {
     "name": "stdout",
     "output_type": "stream",
     "text": [
      "Voici notre quiz, tu as 3 chances !\n"
     ]
    },
    {
     "name": "stdin",
     "output_type": "stream",
     "text": [
      "Combien de fois la France a gagné la coupe du monde ?  2\n",
      "Quand a été fondé Apple ?  1976\n",
      "Qui a fondé SpaceX ?  Elon Musk\n"
     ]
    },
    {
     "name": "stdout",
     "output_type": "stream",
     "text": [
      "elon musk\n"
     ]
    }
   ],
   "source": [
    "quiz = Quiz(3,[\"Combien de fois la France a gagné la coupe du monde ? \", \"Quand a été fondé Apple ? \", \"Qui a fondé SpaceX ? \"],\n",
    "            [\"2\",\"1976\",\"elon musk\"])\n",
    "quiz.ask_question()"
   ]
  },
  {
   "cell_type": "code",
   "execution_count": null,
   "metadata": {},
   "outputs": [],
   "source": []
  }
 ],
 "metadata": {
  "colab": {
   "provenance": []
  },
  "kernelspec": {
   "display_name": "Python 3 (ipykernel)",
   "language": "python",
   "name": "python3"
  },
  "language_info": {
   "codemirror_mode": {
    "name": "ipython",
    "version": 3
   },
   "file_extension": ".py",
   "mimetype": "text/x-python",
   "name": "python",
   "nbconvert_exporter": "python",
   "pygments_lexer": "ipython3",
   "version": "3.11.3"
  }
 },
 "nbformat": 4,
 "nbformat_minor": 4
}
