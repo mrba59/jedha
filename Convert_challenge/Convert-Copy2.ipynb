{
 "cells": [
  {
   "cell_type": "code",
   "execution_count": 1,
   "id": "4d964111-98ad-4d24-9557-930aa7c2ef25",
   "metadata": {
    "tags": []
   },
   "outputs": [],
   "source": [
    "import pandas as pd\n",
    "import numpy as np\n",
    "import seaborn as sns \n",
    "from sklearn.svm import SVC\n",
    "import matplotlib.pyplot as plt\n",
    "from sklearn.model_selection import train_test_split\n",
    "from sklearn.pipeline import Pipeline\n",
    "from sklearn.impute import SimpleImputer\n",
    "from sklearn.preprocessing import  OneHotEncoder, StandardScaler, LabelEncoder\n",
    "from sklearn.compose import ColumnTransformer\n",
    "from sklearn.linear_model import LogisticRegression, RidgeClassifier, Lasso, Ridge\n",
    "from sklearn.ensemble import RandomForestClassifier ,AdaBoostClassifier, VotingClassifier, StackingClassifier\n",
    "from sklearn.metrics import accuracy_score, f1_score, ConfusionMatrixDisplay, RocCurveDisplay, classification_report, recall_score, precision_score, confusion_matrix\n",
    "from sklearn.model_selection import cross_val_score, GridSearchCV\n",
    "import plotly.express as px\n",
    "import plotly.graph_objects as go\n",
    "import plotly.io as pio"
   ]
  },
  {
   "cell_type": "code",
   "execution_count": 3,
   "id": "74e6ffae-6cab-4163-aef7-3cc0e11e1c81",
   "metadata": {
    "tags": []
   },
   "outputs": [
    {
     "data": {
      "text/html": [
       "<div>\n",
       "<style scoped>\n",
       "    .dataframe tbody tr th:only-of-type {\n",
       "        vertical-align: middle;\n",
       "    }\n",
       "\n",
       "    .dataframe tbody tr th {\n",
       "        vertical-align: top;\n",
       "    }\n",
       "\n",
       "    .dataframe thead th {\n",
       "        text-align: right;\n",
       "    }\n",
       "</style>\n",
       "<table border=\"1\" class=\"dataframe\">\n",
       "  <thead>\n",
       "    <tr style=\"text-align: right;\">\n",
       "      <th></th>\n",
       "      <th>speed</th>\n",
       "      <th>acceleration</th>\n",
       "      <th>diff_angle</th>\n",
       "      <th>label</th>\n",
       "    </tr>\n",
       "  </thead>\n",
       "  <tbody>\n",
       "    <tr>\n",
       "      <th>0</th>\n",
       "      <td>0.194243</td>\n",
       "      <td>0.000000e+00</td>\n",
       "      <td>0.000000</td>\n",
       "      <td>possession</td>\n",
       "    </tr>\n",
       "    <tr>\n",
       "      <th>1</th>\n",
       "      <td>0.194267</td>\n",
       "      <td>2.418586e-05</td>\n",
       "      <td>0.000062</td>\n",
       "      <td>possession</td>\n",
       "    </tr>\n",
       "    <tr>\n",
       "      <th>2</th>\n",
       "      <td>0.194287</td>\n",
       "      <td>1.982327e-05</td>\n",
       "      <td>0.000782</td>\n",
       "      <td>possession</td>\n",
       "    </tr>\n",
       "    <tr>\n",
       "      <th>3</th>\n",
       "      <td>0.194301</td>\n",
       "      <td>1.394635e-05</td>\n",
       "      <td>-0.001830</td>\n",
       "      <td>possession</td>\n",
       "    </tr>\n",
       "    <tr>\n",
       "      <th>4</th>\n",
       "      <td>0.345452</td>\n",
       "      <td>1.511515e-01</td>\n",
       "      <td>-2.340496</td>\n",
       "      <td>start passe</td>\n",
       "    </tr>\n",
       "    <tr>\n",
       "      <th>...</th>\n",
       "      <td>...</td>\n",
       "      <td>...</td>\n",
       "      <td>...</td>\n",
       "      <td>...</td>\n",
       "    </tr>\n",
       "    <tr>\n",
       "      <th>2591</th>\n",
       "      <td>0.109933</td>\n",
       "      <td>7.459508e-02</td>\n",
       "      <td>-14.974484</td>\n",
       "      <td>possession</td>\n",
       "    </tr>\n",
       "    <tr>\n",
       "      <th>2592</th>\n",
       "      <td>0.109928</td>\n",
       "      <td>-5.771449e-06</td>\n",
       "      <td>-0.000855</td>\n",
       "      <td>possession</td>\n",
       "    </tr>\n",
       "    <tr>\n",
       "      <th>2593</th>\n",
       "      <td>0.109935</td>\n",
       "      <td>7.432516e-06</td>\n",
       "      <td>0.005435</td>\n",
       "      <td>possession</td>\n",
       "    </tr>\n",
       "    <tr>\n",
       "      <th>2594</th>\n",
       "      <td>0.109947</td>\n",
       "      <td>1.207908e-05</td>\n",
       "      <td>-0.003087</td>\n",
       "      <td>possession</td>\n",
       "    </tr>\n",
       "    <tr>\n",
       "      <th>2595</th>\n",
       "      <td>0.109947</td>\n",
       "      <td>-2.733364e-07</td>\n",
       "      <td>0.000501</td>\n",
       "      <td>possession</td>\n",
       "    </tr>\n",
       "  </tbody>\n",
       "</table>\n",
       "<p>2596 rows × 4 columns</p>\n",
       "</div>"
      ],
      "text/plain": [
       "         speed  acceleration  diff_angle        label\n",
       "0     0.194243  0.000000e+00    0.000000   possession\n",
       "1     0.194267  2.418586e-05    0.000062   possession\n",
       "2     0.194287  1.982327e-05    0.000782   possession\n",
       "3     0.194301  1.394635e-05   -0.001830   possession\n",
       "4     0.345452  1.511515e-01   -2.340496  start passe\n",
       "...        ...           ...         ...          ...\n",
       "2591  0.109933  7.459508e-02  -14.974484   possession\n",
       "2592  0.109928 -5.771449e-06   -0.000855   possession\n",
       "2593  0.109935  7.432516e-06    0.005435   possession\n",
       "2594  0.109947  1.207908e-05   -0.003087   possession\n",
       "2595  0.109947 -2.733364e-07    0.000501   possession\n",
       "\n",
       "[2596 rows x 4 columns]"
      ]
     },
     "execution_count": 3,
     "metadata": {},
     "output_type": "execute_result"
    }
   ],
   "source": [
    "df= pd.read_csv('/home/reda/Documents/jedha/soccer-tracking/dataset_passe.csv')\n",
    "df"
   ]
  },
  {
   "cell_type": "code",
   "execution_count": null,
   "id": "ef294386-bd8b-4613-bced-da4742ffb7c0",
   "metadata": {},
   "outputs": [],
   "source": [
    "df_train"
   ]
  },
  {
   "cell_type": "code",
   "execution_count": null,
   "id": "e678216c-361e-4191-8c4f-ac668f62fd68",
   "metadata": {
    "tags": []
   },
   "outputs": [],
   "source": [
    "labelencoder = LabelEncoder()\n",
    "Y_train = labelencoder.fit_transform(Y_train)"
   ]
  },
  {
   "cell_type": "code",
   "execution_count": null,
   "id": "d8db2ff4-bee8-4384-a07a-8072b12e5fad",
   "metadata": {
    "tags": []
   },
   "outputs": [],
   "source": []
  },
  {
   "cell_type": "code",
   "execution_count": null,
   "id": "86a4e304-0bef-4e5c-9d6d-9cd31de4f6d4",
   "metadata": {
    "tags": []
   },
   "outputs": [],
   "source": []
  },
  {
   "cell_type": "code",
   "execution_count": null,
   "id": "393168ea-a596-4798-b26f-178ff67507c7",
   "metadata": {
    "tags": []
   },
   "outputs": [],
   "source": []
  },
  {
   "cell_type": "code",
   "execution_count": null,
   "id": "3a75db52-e586-438d-a1a6-d962f1ab95f4",
   "metadata": {
    "tags": []
   },
   "outputs": [],
   "source": []
  },
  {
   "cell_type": "code",
   "execution_count": 8,
   "id": "1e7b7a39-1f50-41ba-a53c-c8425ce79588",
   "metadata": {
    "tags": []
   },
   "outputs": [],
   "source": [
    "X = df_train[[\"age\",\"total_pages_visited\",\"country\",\"new_user\",\"source\"]]\n",
    "Y = df_train[\"converted\"]\n",
    "X_train, X_test, Y_train, Y_test = train_test_split(X, Y, test_size = 0.3, random_state = 0, stratify=Y)"
   ]
  },
  {
   "cell_type": "code",
   "execution_count": 22,
   "id": "965cb451-a0d0-4a07-bcfa-25347b4c5987",
   "metadata": {
    "tags": []
   },
   "outputs": [],
   "source": [
    "#X_train= df_train[[\"age\",\"total_pages_visited\",\"country\",\"new_user\",\"source\"]]\n",
    "#X_test= df_test[[\"age\",\"total_pages_visited\",\"country\",\"new_user\",\"source\"]]\n",
    "#Y_train = df_train[\"converted\"]\n",
    "#Y_test = df_test[\"converted\"]"
   ]
  },
  {
   "cell_type": "markdown",
   "id": "de04e033-776d-4c3a-bb28-43936540cde6",
   "metadata": {},
   "source": [
    "### Preprocessing\n"
   ]
  },
  {
   "cell_type": "code",
   "execution_count": 9,
   "id": "d28fcecc-2868-440e-b3eb-01e12376d2f5",
   "metadata": {
    "tags": []
   },
   "outputs": [],
   "source": [
    "numeric_features = [\"age\",\"total_pages_visited\"] # Names of numeric columns in X_train/X_test\n",
    "numeric_transformer = Pipeline(steps=[\n",
    "    ('imputer', SimpleImputer(strategy='median')), # missing values will be replaced by columns' median\n",
    "    ('scaler', StandardScaler())\n",
    "])\n",
    "categorical_features = [\"country\",\"new_user\",\"source\"] # Names of categorical columns in X_train/X_test\n",
    "categorical_transformer = Pipeline(\n",
    "    steps=[\n",
    "    ('imputer', SimpleImputer(strategy='most_frequent')), # missing values will be replaced by most frequent value\n",
    "    ('encoder', OneHotEncoder(drop='first')) # first column will be dropped to avoid creating correlations between features\n",
    "    ])\n",
    "\n",
    "preprocessor = ColumnTransformer(\n",
    "    transformers=[\n",
    "        ('num', numeric_transformer, numeric_features),\n",
    "        ('cat', categorical_transformer, categorical_features)\n",
    "    ])\n",
    "\n",
    "X_train = preprocessor.fit_transform(X_train)\n",
    "X_test = preprocessor.transform(X_test)"
   ]
  },
  {
   "cell_type": "markdown",
   "id": "c45f134c-5b61-47b2-9f93-6ff1faa5e766",
   "metadata": {},
   "source": [
    "### Logistic Regression"
   ]
  },
  {
   "cell_type": "code",
   "execution_count": 25,
   "id": "2abfe796-1f5b-4d5e-a450-a2df3772eb09",
   "metadata": {
    "tags": []
   },
   "outputs": [
    {
     "name": "stdout",
     "output_type": "stream",
     "text": [
      "0.9416098578021411\n",
      "0.9413069887453189\n",
      "              precision    recall  f1-score   support\n",
      "\n",
      "           0       1.00      0.94      0.97     82620\n",
      "           1       0.35      0.94      0.51      2754\n",
      "\n",
      "    accuracy                           0.94     85374\n",
      "   macro avg       0.67      0.94      0.74     85374\n",
      "weighted avg       0.98      0.94      0.95     85374\n",
      "\n",
      "0.9415395787944808\n"
     ]
    }
   ],
   "source": [
    "model = LogisticRegression(class_weight='balanced', penalty='l2')\n",
    "model.fit(X_train,Y_train)\n",
    "print(model.score(X_test,Y_test))\n",
    "print(model.score(X_train,Y_train))\n",
    "print(classification_report(y_true = Y_test, y_pred=model.predict(X_test)))\n",
    "print(recall_score(y_true = Y_test, y_pred=model.predict(X_test)))\n",
    "\n"
   ]
  },
  {
   "cell_type": "code",
   "execution_count": 57,
   "id": "2c5e84ba-3e37-45fd-8bac-608231593fd3",
   "metadata": {
    "tags": []
   },
   "outputs": [
    {
     "name": "stdout",
     "output_type": "stream",
     "text": [
      "...Done.\n",
      "Best hyperparameters :  {'C': 0.1, 'class_weight': {0: 1, 1: 2}, 'solver': 'liblinear'}\n",
      "Best validation accuracy :  0.8811261214019636\n"
     ]
    }
   ],
   "source": [
    "model = LogisticRegression(penalty='l2')\n",
    "params = {\n",
    "    'solver' : ['lbfgs', 'liblinear', 'newton-cg', 'newton-cholesky', 'sag' ,'saga'],\n",
    "    'C': [1e-2, 1e-1, 1,5,10,20,30],\n",
    "    'class_weight': [{0:1,1:5}, {0:1,1:2}, {0:1,1:3},None]\n",
    "}\n",
    "gridsearch = GridSearchCV(model, param_grid = params, cv = 10, n_jobs=-1, scoring='f1_macro') # cv : the number of folds to be used for CV\n",
    "gridsearch.fit(X_train, Y_train)\n",
    "print(\"...Done.\")\n",
    "print(\"Best hyperparameters : \", gridsearch.best_params_)\n",
    "print(\"Best validation accuracy : \", gridsearch.best_score_)"
   ]
  },
  {
   "cell_type": "code",
   "execution_count": 58,
   "id": "f7874f44-1962-4bfa-8037-3c9534b8d0cb",
   "metadata": {
    "tags": []
   },
   "outputs": [
    {
     "name": "stdout",
     "output_type": "stream",
     "text": [
      "0.9850071450324455\n",
      "0.9853167073280925\n",
      "              precision    recall  f1-score   support\n",
      "\n",
      "           0       0.99      0.99      0.99     82620\n",
      "           1       0.77      0.76      0.77      2754\n",
      "\n",
      "    accuracy                           0.99     85374\n",
      "   macro avg       0.88      0.88      0.88     85374\n",
      "weighted avg       0.98      0.99      0.98     85374\n",
      "\n",
      "0.7585330428467684\n"
     ]
    }
   ],
   "source": [
    "best_LogR = LogisticRegression(class_weight={0:1,1:2}, penalty='l2', solver= 'liblinear', C=0.1)\n",
    "best_LogR.fit(X_train,Y_train)\n",
    "print(best_LogR.score(X_test,Y_test))\n",
    "print(best_LogR.score(X_train,Y_train))\n",
    "print(classification_report(y_true = Y_test, y_pred=best_LogR.predict(X_test)))\n",
    "print(recall_score(y_true = Y_test, y_pred=best_LogR.predict(X_test)))\n",
    "\n"
   ]
  },
  {
   "cell_type": "code",
   "execution_count": 54,
   "id": "6223af38-9f78-4d8f-b9d2-a320cc9c5347",
   "metadata": {
    "tags": []
   },
   "outputs": [
    {
     "name": "stdout",
     "output_type": "stream",
     "text": [
      "0.9858504931243705\n",
      "0.9863257130809313\n",
      "              precision    recall  f1-score   support\n",
      "\n",
      "           0       0.99      1.00      0.99     82620\n",
      "           1       0.85      0.68      0.76      2754\n",
      "\n",
      "    accuracy                           0.99     85374\n",
      "   macro avg       0.92      0.84      0.87     85374\n",
      "weighted avg       0.98      0.99      0.99     85374\n",
      "\n",
      "0.681917211328976\n"
     ]
    }
   ],
   "source": [
    "best_LogR = LogisticRegression(class_weight=None, penalty='l2', solver= 'saga', C=0.1)\n",
    "best_LogR.fit(X_train,Y_train)\n",
    "print(best_LogR.score(X_test,Y_test))\n",
    "print(best_LogR.score(X_train,Y_train))\n",
    "print(classification_report(y_true = Y_test, y_pred=best_LogR.predict(X_test)))\n",
    "print(recall_score(y_true = Y_test, y_pred=best_LogR.predict(X_test)))"
   ]
  },
  {
   "cell_type": "code",
   "execution_count": 11,
   "id": "3dd2683e-b90f-4d9f-ba61-acd8df207c05",
   "metadata": {
    "tags": []
   },
   "outputs": [
    {
     "data": {
      "text/html": [
       "<div>\n",
       "<style scoped>\n",
       "    .dataframe tbody tr th:only-of-type {\n",
       "        vertical-align: middle;\n",
       "    }\n",
       "\n",
       "    .dataframe tbody tr th {\n",
       "        vertical-align: top;\n",
       "    }\n",
       "\n",
       "    .dataframe thead th {\n",
       "        text-align: right;\n",
       "    }\n",
       "</style>\n",
       "<table border=\"1\" class=\"dataframe\">\n",
       "  <thead>\n",
       "    <tr style=\"text-align: right;\">\n",
       "      <th></th>\n",
       "      <th>age</th>\n",
       "      <th>total_pages_visited</th>\n",
       "      <th>country</th>\n",
       "      <th>new_user</th>\n",
       "      <th>source</th>\n",
       "    </tr>\n",
       "  </thead>\n",
       "  <tbody>\n",
       "    <tr>\n",
       "      <th>0</th>\n",
       "      <td>22</td>\n",
       "      <td>2</td>\n",
       "      <td>China</td>\n",
       "      <td>1</td>\n",
       "      <td>Direct</td>\n",
       "    </tr>\n",
       "    <tr>\n",
       "      <th>1</th>\n",
       "      <td>21</td>\n",
       "      <td>3</td>\n",
       "      <td>UK</td>\n",
       "      <td>1</td>\n",
       "      <td>Ads</td>\n",
       "    </tr>\n",
       "    <tr>\n",
       "      <th>2</th>\n",
       "      <td>20</td>\n",
       "      <td>14</td>\n",
       "      <td>Germany</td>\n",
       "      <td>0</td>\n",
       "      <td>Seo</td>\n",
       "    </tr>\n",
       "    <tr>\n",
       "      <th>3</th>\n",
       "      <td>23</td>\n",
       "      <td>3</td>\n",
       "      <td>US</td>\n",
       "      <td>1</td>\n",
       "      <td>Seo</td>\n",
       "    </tr>\n",
       "    <tr>\n",
       "      <th>4</th>\n",
       "      <td>28</td>\n",
       "      <td>3</td>\n",
       "      <td>US</td>\n",
       "      <td>1</td>\n",
       "      <td>Direct</td>\n",
       "    </tr>\n",
       "    <tr>\n",
       "      <th>...</th>\n",
       "      <td>...</td>\n",
       "      <td>...</td>\n",
       "      <td>...</td>\n",
       "      <td>...</td>\n",
       "      <td>...</td>\n",
       "    </tr>\n",
       "    <tr>\n",
       "      <th>284575</th>\n",
       "      <td>36</td>\n",
       "      <td>1</td>\n",
       "      <td>US</td>\n",
       "      <td>1</td>\n",
       "      <td>Ads</td>\n",
       "    </tr>\n",
       "    <tr>\n",
       "      <th>284576</th>\n",
       "      <td>31</td>\n",
       "      <td>2</td>\n",
       "      <td>US</td>\n",
       "      <td>1</td>\n",
       "      <td>Seo</td>\n",
       "    </tr>\n",
       "    <tr>\n",
       "      <th>284577</th>\n",
       "      <td>41</td>\n",
       "      <td>5</td>\n",
       "      <td>US</td>\n",
       "      <td>1</td>\n",
       "      <td>Seo</td>\n",
       "    </tr>\n",
       "    <tr>\n",
       "      <th>284578</th>\n",
       "      <td>31</td>\n",
       "      <td>4</td>\n",
       "      <td>US</td>\n",
       "      <td>1</td>\n",
       "      <td>Direct</td>\n",
       "    </tr>\n",
       "    <tr>\n",
       "      <th>284579</th>\n",
       "      <td>26</td>\n",
       "      <td>3</td>\n",
       "      <td>US</td>\n",
       "      <td>0</td>\n",
       "      <td>Ads</td>\n",
       "    </tr>\n",
       "  </tbody>\n",
       "</table>\n",
       "<p>284580 rows × 5 columns</p>\n",
       "</div>"
      ],
      "text/plain": [
       "        age  total_pages_visited  country  new_user  source\n",
       "0        22                    2    China         1  Direct\n",
       "1        21                    3       UK         1     Ads\n",
       "2        20                   14  Germany         0     Seo\n",
       "3        23                    3       US         1     Seo\n",
       "4        28                    3       US         1  Direct\n",
       "...     ...                  ...      ...       ...     ...\n",
       "284575   36                    1       US         1     Ads\n",
       "284576   31                    2       US         1     Seo\n",
       "284577   41                    5       US         1     Seo\n",
       "284578   31                    4       US         1  Direct\n",
       "284579   26                    3       US         0     Ads\n",
       "\n",
       "[284580 rows x 5 columns]"
      ]
     },
     "execution_count": 11,
     "metadata": {},
     "output_type": "execute_result"
    }
   ],
   "source": [
    "X"
   ]
  },
  {
   "cell_type": "code",
   "execution_count": 13,
   "id": "79a93b62-480b-469a-99c3-5845a4bce3f7",
   "metadata": {
    "tags": []
   },
   "outputs": [],
   "source": [
    "#model-2\n",
    "best_LogR = LogisticRegression(class_weight='balanced', penalty='l2', solver= 'saga', C=0.1)\n",
    "X_proc = preprocessor.fit_transform(df_train[[\"age\",\"total_pages_visited\",\"country\",\"new_user\",\"source\"]])\n",
    "best_LogR.fit(X_proc,Y)\n",
    "X_test_comp = preprocessor.transform(df_test)\n",
    "Y_test_comp =best_LogR.predict(X_test_comp)\n",
    "df_test_pred = pd.DataFrame(data=Y_test_comp, columns=['converted'])\n",
    "df_test_pred.to_csv('conversion_data_test_predictions_REDA-model2.csv', index=False)"
   ]
  },
  {
   "cell_type": "code",
   "execution_count": 21,
   "id": "8c14da32-a98b-425e-98b1-052743605f82",
   "metadata": {
    "tags": []
   },
   "outputs": [],
   "source": [
    "#model-2nobalance\n",
    "best_LogR = LogisticRegression(penalty='l2', solver= 'saga', C=0.1)\n",
    "X_proc = preprocessor.fit_transform(df_train[[\"age\",\"total_pages_visited\",\"country\",\"new_user\",\"source\"]])\n",
    "best_LogR.fit(X_proc,Y)\n",
    "X_test_comp = preprocessor.transform(df_test)\n",
    "Y_test_comp =best_LogR.predict(X_test_comp)\n",
    "df_test_pred = pd.DataFrame(data=Y_test_comp, columns=['converted'])\n",
    "df_test_pred.to_csv('conversion_data_test_predictions_REDA-model2nobalance.csv', index=False)"
   ]
  },
  {
   "cell_type": "code",
   "execution_count": 59,
   "id": "39b970e8-fe56-413f-8357-302ec06e83ab",
   "metadata": {
    "tags": []
   },
   "outputs": [],
   "source": [
    "#model-2custombalance\n",
    "best_LogR = LogisticRegression(class_weight={0:1,1:2}, penalty='l2', solver= 'liblinear', C=0.1)\n",
    "X_proc = preprocessor.fit_transform(df_train[[\"age\",\"total_pages_visited\",\"country\",\"new_user\",\"source\"]])\n",
    "best_LogR.fit(X_proc,Y)\n",
    "X_test_comp = preprocessor.transform(df_test)\n",
    "Y_test_comp =best_LogR.predict(X_test_comp)\n",
    "df_test_pred = pd.DataFrame(data=Y_test_comp, columns=['converted'])\n",
    "df_test_pred.to_csv('conversion_data_test_predictions_REDA-model2custombalance.csv', index=False)"
   ]
  },
  {
   "cell_type": "code",
   "execution_count": 25,
   "id": "3d421e2f-b43f-4208-8331-ae14ddc2f17d",
   "metadata": {
    "tags": []
   },
   "outputs": [
    {
     "name": "stdout",
     "output_type": "stream",
     "text": [
      "Fitting 10 folds for each of 42 candidates, totalling 420 fits\n",
      "...Done.\n",
      "Best hyperparameters :  {'C': 1, 'solver': 'lbfgs'}\n",
      "Best validation accuracy :  0.9863608563061039\n"
     ]
    }
   ],
   "source": [
    "model = LogisticRegression(penalty='l2')\n",
    "params = {\n",
    "    'solver' : ['lbfgs', 'liblinear', 'newton-cg', 'newton-cholesky', 'sag' ,'saga'],\n",
    "    'C': [1e-2, 1e-1, 1,5,10,20,30]\n",
    "}\n",
    "gridsearch = GridSearchCV(model, param_grid = params, cv = 10, n_jobs=-1, verbose=3) # cv : the number of folds to be used for CV\n",
    "gridsearch.fit(X_train, Y_train)\n",
    "print(\"...Done.\")\n",
    "print(\"Best hyperparameters : \", gridsearch.best_params_)\n",
    "print(\"Best validation accuracy : \", gridsearch.best_score_)"
   ]
  },
  {
   "cell_type": "code",
   "execution_count": 26,
   "id": "a600ecaf-70e1-43f0-ba73-fcab2211dd03",
   "metadata": {
    "tags": []
   },
   "outputs": [
    {
     "name": "stdout",
     "output_type": "stream",
     "text": [
      "0.9859207721320308\n",
      "0.9863759123721173\n",
      "              precision    recall  f1-score   support\n",
      "\n",
      "           0       0.99      1.00      0.99     82620\n",
      "           1       0.85      0.69      0.76      2754\n",
      "\n",
      "    accuracy                           0.99     85374\n",
      "   macro avg       0.92      0.84      0.88     85374\n",
      "weighted avg       0.99      0.99      0.99     85374\n",
      "\n",
      "0.6862745098039216\n"
     ]
    }
   ],
   "source": [
    "best_LogR = LogisticRegression( penalty='l2', solver= 'lbfgs', C=1)\n",
    "best_LogR.fit(X_train, Y_train)\n",
    "print(best_LogR.score(X_test,Y_test))\n",
    "print(best_LogR.score(X_train,Y_train))\n",
    "print(classification_report(y_true = Y_test, y_pred=best_LogR.predict(X_test)))\n",
    "print(recall_score(y_true = Y_test, y_pred=best_LogR.predict(X_test)))"
   ]
  },
  {
   "cell_type": "code",
   "execution_count": 27,
   "id": "5fbb948c-b15d-45c0-8903-76775a4accd6",
   "metadata": {
    "collapsed": true,
    "jupyter": {
     "outputs_hidden": true
    },
    "tags": []
   },
   "outputs": [
    {
     "name": "stdout",
     "output_type": "stream",
     "text": [
      "[CV 5/10] END alpha=0.01, class_weight=balanced;, score=0.951 total time=   0.2s\n",
      "[CV 7/10] END .alpha=0.1, class_weight=balanced;, score=0.955 total time=   0.1s\n",
      "[CV 4/10] END ..alpha=0.0001, class_weight=None;, score=0.970 total time=   0.2s\n",
      "[CV 10/10] END ..alpha=1e-10, class_weight=None;, score=0.970 total time=   0.2s\n",
      "[CV 8/10] END .............C=0.01, solver=lbfgs;, score=0.987 total time=   0.6s\n",
      "[CV 2/10] END ...............C=0.01, solver=sag;, score=0.986 total time=   1.8s\n",
      "[CV 8/10] END ..........C=0.1, solver=newton-cg;, score=0.987 total time=   1.8s\n",
      "[CV 2/10] END ............C=1, solver=newton-cg;, score=0.986 total time=   1.8s\n",
      "[CV 3/10] END ................C=5, solver=lbfgs;, score=0.986 total time=   0.3s\n",
      "[CV 1/10] END ............C=5, solver=liblinear;, score=0.985 total time=   1.2s\n",
      "[CV 9/10] END ............C=5, solver=newton-cg;, score=0.986 total time=   1.5s\n",
      "[CV 1/10] END ...............C=10, solver=lbfgs;, score=0.985 total time=   0.4s\n",
      "[CV 6/10] END ...............C=10, solver=lbfgs;, score=0.987 total time=   0.4s\n",
      "[CV 3/10] END ...........C=10, solver=liblinear;, score=0.986 total time=   1.6s\n",
      "[CV 1/10] END ................C=10, solver=saga;, score=0.985 total time=   5.0s\n",
      "[CV 1/10] END ...........C=30, solver=newton-cg;, score=0.985 total time=   2.0s\n",
      "[CV 8/10] END ....alpha=0.01, class_weight=None;, score=0.970 total time=   0.2s\n",
      "[CV 4/10] END ...alpha=0.001, class_weight=None;, score=0.970 total time=   0.1s\n",
      "[CV 1/10] END alpha=0.0001, class_weight=balanced;, score=0.950 total time=   0.2s\n",
      "[CV 2/10] END alpha=1e-11, class_weight=balanced;, score=0.951 total time=   0.1s\n",
      "[CV 8/10] END .........C=0.01, solver=liblinear;, score=0.986 total time=   1.2s\n",
      "[CV 2/10] END ..............C=0.1, solver=lbfgs;, score=0.986 total time=   0.4s\n",
      "[CV 4/10] END ..........C=0.1, solver=liblinear;, score=0.986 total time=   1.2s\n",
      "[CV 6/10] END ................C=0.1, solver=sag;, score=0.987 total time=   2.3s\n",
      "[CV 7/10] END ......C=1, solver=newton-cholesky;, score=0.987 total time=   0.4s\n",
      "[CV 2/10] END .................C=1, solver=saga;, score=0.986 total time=   4.2s\n",
      "[CV 7/10] END ...........C=10, solver=liblinear;, score=0.987 total time=   1.5s\n",
      "[CV 8/10] END .................C=10, solver=sag;, score=0.987 total time=   2.0s\n",
      "[CV 6/10] END ...........C=20, solver=newton-cg;, score=0.987 total time=   1.8s\n",
      "[CV 2/10] END ...............C=30, solver=lbfgs;, score=0.986 total time=   0.3s\n",
      "[CV 4/10] END ...............C=30, solver=lbfgs;, score=0.985 total time=   0.3s\n",
      "[CV 7/10] END ...............C=30, solver=lbfgs;, score=0.987 total time=   0.3s\n",
      "[CV 10/10] END ..............C=30, solver=lbfgs;, score=0.986 total time=   0.4s\n",
      "[CV 6/10] END ...........C=30, solver=newton-cg;, score=0.987 total time=   1.8s\n",
      "[CV 1/10] END ....alpha=0.01, class_weight=None;, score=0.970 total time=   0.2s\n",
      "[CV 3/10] END .alpha=0.1, class_weight=balanced;, score=0.950 total time=   0.1s\n",
      "[CV 4/10] END .alpha=0.1, class_weight=balanced;, score=0.952 total time=   0.1s\n",
      "[CV 5/10] END .alpha=0.1, class_weight=balanced;, score=0.951 total time=   0.1s\n",
      "[CV 6/10] END .alpha=0.1, class_weight=balanced;, score=0.954 total time=   0.1s\n",
      "[CV 9/10] END .alpha=0.1, class_weight=balanced;, score=0.949 total time=   0.1s\n",
      "[CV 10/10] END ..alpha=0.001, class_weight=None;, score=0.970 total time=   0.1s\n",
      "[CV 3/10] END alpha=0.0001, class_weight=balanced;, score=0.950 total time=   0.1s\n",
      "[CV 1/10] END alpha=1e-10, class_weight=balanced;, score=0.950 total time=   0.2s\n",
      "[CV 4/10] END .........C=0.01, solver=liblinear;, score=0.985 total time=   1.2s\n",
      "[CV 1/10] END ..............C=0.1, solver=lbfgs;, score=0.985 total time=   0.5s\n",
      "[CV 5/10] END ..........C=0.1, solver=liblinear;, score=0.987 total time=   1.1s\n",
      "[CV 4/10] END ................C=0.1, solver=sag;, score=0.985 total time=   2.3s\n",
      "[CV 4/10] END ......C=1, solver=newton-cholesky;, score=0.985 total time=   0.4s\n",
      "[CV 7/10] END ..................C=1, solver=sag;, score=0.987 total time=   2.8s\n",
      "[CV 6/10] END .................C=5, solver=saga;, score=0.987 total time=   5.0s\n",
      "[CV 9/10] END ...........C=20, solver=newton-cg;, score=0.986 total time=   1.4s\n",
      "[CV 8/10] END ................C=20, solver=saga;, score=0.987 total time=   3.7s\n",
      "[CV 6/10] END alpha=0.01, class_weight=balanced;, score=0.954 total time=   0.2s\n",
      "[CV 7/10] END ...alpha=0.001, class_weight=None;, score=0.969 total time=   0.1s\n",
      "[CV 7/10] END alpha=0.0001, class_weight=balanced;, score=0.955 total time=   0.1s\n",
      "[CV 9/10] END alpha=1e-10, class_weight=balanced;, score=0.949 total time=   0.1s\n",
      "[CV 6/10] END .............C=0.01, solver=lbfgs;, score=0.986 total time=   0.3s\n",
      "[CV 5/10] END ...C=0.01, solver=newton-cholesky;, score=0.987 total time=   0.4s\n",
      "[CV 7/10] END ...............C=0.01, solver=sag;, score=0.987 total time=   1.9s\n",
      "[CV 4/10] END ....C=0.1, solver=newton-cholesky;, score=0.985 total time=   0.3s\n",
      "[CV 9/10] END ................C=0.1, solver=sag;, score=0.986 total time=   2.7s\n",
      "[CV 3/10] END .................C=1, solver=saga;, score=0.986 total time=   4.1s\n",
      "[CV 4/10] END ...........C=10, solver=liblinear;, score=0.985 total time=   0.6s\n",
      "[CV 1/10] END .....C=10, solver=newton-cholesky;, score=0.985 total time=   0.3s\n",
      "[CV 4/10] END .....C=10, solver=newton-cholesky;, score=0.985 total time=   0.3s\n",
      "[CV 9/10] END .....C=10, solver=newton-cholesky;, score=0.986 total time=   0.3s\n",
      "[CV 10/10] END ................C=10, solver=sag;, score=0.986 total time=   2.0s\n",
      "[CV 4/10] END ...........C=20, solver=newton-cg;, score=0.985 total time=   1.5s\n",
      "[CV 9/10] END ................C=20, solver=saga;, score=0.986 total time=   4.2s\n",
      "[CV 4/10] END .....alpha=0.1, class_weight=None;, score=0.970 total time=   0.3s\n",
      "[CV 8/10] END ...alpha=1e-11, class_weight=None;, score=0.970 total time=   0.2s\n",
      "[CV 1/10] END ...C=0.01, solver=newton-cholesky;, score=0.985 total time=   0.5s\n",
      "[CV 3/10] END ...............C=0.01, solver=sag;, score=0.986 total time=   1.8s\n",
      "[CV 9/10] END ..........C=0.1, solver=newton-cg;, score=0.986 total time=   1.7s\n",
      "[CV 1/10] END ............C=1, solver=newton-cg;, score=0.985 total time=   1.7s\n",
      "[CV 9/10] END .................C=1, solver=saga;, score=0.986 total time=   4.0s\n",
      "[CV 6/10] END ...........C=10, solver=liblinear;, score=0.987 total time=   1.5s\n",
      "[CV 7/10] END .................C=10, solver=sag;, score=0.987 total time=   1.9s\n",
      "[CV 9/10] END ...........C=20, solver=liblinear;, score=0.986 total time=   1.5s\n",
      "[CV 3/10] END ................C=20, solver=saga;, score=0.986 total time=   4.4s\n",
      "[CV 7/10] END ....alpha=0.01, class_weight=None;, score=0.969 total time=   0.2s\n",
      "[CV 2/10] END ..alpha=0.0001, class_weight=None;, score=0.969 total time=   0.2s\n",
      "[CV 8/10] END ...alpha=1e-10, class_weight=None;, score=0.970 total time=   0.1s\n",
      "[CV 5/10] END alpha=1e-11, class_weight=balanced;, score=0.951 total time=   0.1s\n",
      "[CV 5/10] END .........C=0.01, solver=liblinear;, score=0.986 total time=   1.2s\n",
      "[CV 10/10] END .............C=0.01, solver=saga;, score=0.985 total time=   1.5s\n",
      "[CV 9/10] END ....C=0.1, solver=newton-cholesky;, score=0.986 total time=   0.4s\n",
      "[CV 2/10] END ................C=1, solver=lbfgs;, score=0.986 total time=   0.5s\n",
      "[CV 5/10] END ............C=1, solver=liblinear;, score=0.987 total time=   1.1s\n",
      "[CV 10/10] END ...........C=1, solver=newton-cg;, score=0.986 total time=   1.5s\n",
      "[CV 9/10] END ................C=5, solver=lbfgs;, score=0.986 total time=   0.5s\n",
      "[CV 1/10] END ............C=5, solver=newton-cg;, score=0.985 total time=   1.6s\n",
      "[CV 4/10] END .................C=5, solver=saga;, score=0.985 total time=   4.5s\n",
      "[CV 2/10] END ...........C=20, solver=liblinear;, score=0.986 total time=   1.4s\n",
      "[CV 10/10] END ....C=20, solver=newton-cholesky;, score=0.986 total time=   0.4s\n",
      "[CV 4/10] END ................C=20, solver=saga;, score=0.985 total time=   4.4s\n",
      "[CV 8/10] END .....alpha=0.1, class_weight=None;, score=0.970 total time=   0.1s\n",
      "[CV 1/10] END alpha=0.001, class_weight=balanced;, score=0.950 total time=   0.1s\n",
      "[CV 6/10] END alpha=0.0001, class_weight=balanced;, score=0.954 total time=   0.2s\n",
      "[CV 5/10] END ...alpha=1e-11, class_weight=None;, score=0.970 total time=   0.2s\n",
      "[CV 10/10] END ........C=0.01, solver=newton-cg;, score=0.985 total time=   1.2s\n",
      "[CV 7/10] END ..............C=0.1, solver=lbfgs;, score=0.987 total time=   0.3s\n",
      "[CV 10/10] END .............C=0.1, solver=lbfgs;, score=0.986 total time=   0.3s\n",
      "[CV 2/10] END ..........C=0.1, solver=newton-cg;, score=0.986 total time=   0.8s\n",
      "[CV 6/10] END ....C=0.1, solver=newton-cholesky;, score=0.987 total time=   0.3s\n",
      "[CV 10/10] END ...............C=0.1, solver=sag;, score=0.986 total time=   2.6s\n",
      "[CV 9/10] END ..................C=1, solver=sag;, score=0.986 total time=   2.9s\n",
      "[CV 9/10] END .................C=5, solver=saga;, score=0.986 total time=   4.3s\n",
      "[CV 1/10] END ...........C=20, solver=liblinear;, score=0.985 total time=   1.3s\n",
      "[CV 8/10] END .....C=20, solver=newton-cholesky;, score=0.987 total time=   0.5s\n",
      "[CV 1/10] END ................C=20, solver=saga;, score=0.985 total time=   4.5s\n",
      "[CV 10/10] END alpha=0.01, class_weight=balanced;, score=0.952 total time=   0.2s\n",
      "[CV 1/10] END ...alpha=0.001, class_weight=None;, score=0.970 total time=   0.0s\n",
      "[CV 5/10] END ..alpha=0.0001, class_weight=None;, score=0.970 total time=   0.2s\n",
      "[CV 4/10] END alpha=1e-10, class_weight=balanced;, score=0.952 total time=   0.2s\n",
      "[CV 10/10] END ........C=0.01, solver=liblinear;, score=0.985 total time=   1.3s\n",
      "[CV 5/10] END ..............C=0.1, solver=lbfgs;, score=0.987 total time=   0.3s\n",
      "[CV 2/10] END ..........C=0.1, solver=liblinear;, score=0.986 total time=   0.5s\n",
      "[CV 3/10] END ..........C=0.1, solver=newton-cg;, score=0.986 total time=   1.1s\n",
      "[CV 5/10] END ................C=1, solver=lbfgs;, score=0.987 total time=   0.3s\n",
      "[CV 10/10] END ...............C=1, solver=lbfgs;, score=0.986 total time=   0.3s\n",
      "[CV 9/10] END ............C=1, solver=liblinear;, score=0.986 total time=   0.6s\n",
      "[CV 7/10] END ............C=1, solver=newton-cg;, score=0.987 total time=   1.1s\n",
      "[CV 1/10] END .................C=1, solver=saga;, score=0.985 total time=   4.6s\n",
      "[CV 7/10] END ...........C=10, solver=newton-cg;, score=0.987 total time=   1.4s\n",
      "[CV 7/10] END ................C=10, solver=saga;, score=0.987 total time=   5.7s\n",
      "[CV 7/10] END .....C=30, solver=newton-cholesky;, score=0.987 total time=   0.3s\n",
      "[CV 3/10] END .................C=30, solver=sag;, score=0.986 total time=   1.6s\n",
      "[CV 7/10] END .....alpha=0.1, class_weight=None;, score=0.969 total time=   0.1s\n",
      "[CV 7/10] END alpha=0.001, class_weight=balanced;, score=0.955 total time=   0.1s\n",
      "[CV 3/10] END ...alpha=1e-10, class_weight=None;, score=0.969 total time=   0.1s\n",
      "[CV 4/10] END ...alpha=1e-11, class_weight=None;, score=0.970 total time=   0.2s\n",
      "[CV 8/10] END .........C=0.01, solver=newton-cg;, score=0.987 total time=   1.2s\n",
      "[CV 4/10] END ..............C=0.1, solver=lbfgs;, score=0.985 total time=   0.3s\n",
      "[CV 9/10] END ..............C=0.1, solver=lbfgs;, score=0.986 total time=   0.2s\n",
      "[CV 9/10] END ..........C=0.1, solver=liblinear;, score=0.986 total time=   0.5s\n",
      "[CV 7/10] END ..........C=0.1, solver=newton-cg;, score=0.987 total time=   1.1s\n",
      "[CV 8/10] END ................C=1, solver=lbfgs;, score=0.987 total time=   0.4s\n",
      "[CV 8/10] END ............C=1, solver=liblinear;, score=0.987 total time=   0.9s\n",
      "[CV 9/10] END ............C=1, solver=newton-cg;, score=0.986 total time=   1.2s\n",
      "[CV 1/10] END ................C=5, solver=lbfgs;, score=0.985 total time=   0.2s\n",
      "[CV 7/10] END ................C=5, solver=lbfgs;, score=0.987 total time=   0.3s\n",
      "[CV 6/10] END ............C=5, solver=liblinear;, score=0.987 total time=   0.7s\n",
      "[CV 8/10] END ............C=5, solver=newton-cg;, score=0.987 total time=   1.1s\n",
      "[CV 8/10] END ..................C=5, solver=sag;, score=0.987 total time=   2.7s\n",
      "[CV 8/10] END .....C=10, solver=newton-cholesky;, score=0.987 total time=   0.3s\n",
      "[CV 4/10] END .................C=10, solver=sag;, score=0.985 total time=   2.1s\n",
      "[CV 8/10] END ...........C=20, solver=newton-cg;, score=0.987 total time=   1.5s\n",
      "[CV 10/10] END ...............C=20, solver=saga;, score=0.986 total time=   4.4s\n",
      "[CV 5/10] END .....alpha=0.1, class_weight=None;, score=0.970 total time=   0.2s\n",
      "[CV 9/10] END ...alpha=0.001, class_weight=None;, score=0.970 total time=   0.1s\n",
      "[CV 9/10] END ..alpha=0.0001, class_weight=None;, score=0.970 total time=   0.2s\n",
      "[CV 10/10] END alpha=1e-10, class_weight=balanced;, score=0.952 total time=   0.2s\n",
      "[CV 2/10] END .........C=0.01, solver=newton-cg;, score=0.986 total time=   1.8s\n",
      "[CV 1/10] END ..........C=0.1, solver=newton-cg;, score=0.985 total time=   1.2s\n",
      "[CV 5/10] END ...............C=0.1, solver=saga;, score=0.987 total time=   3.4s\n",
      "[CV 8/10] END ............C=5, solver=liblinear;, score=0.987 total time=   0.6s\n",
      "[CV 7/10] END ............C=5, solver=newton-cg;, score=0.987 total time=   1.0s\n",
      "[CV 9/10] END ......C=5, solver=newton-cholesky;, score=0.986 total time=   0.2s\n",
      "[CV 10/10] END .................C=5, solver=sag;, score=0.986 total time=   2.0s\n",
      "[CV 8/10] END ...........C=10, solver=newton-cg;, score=0.987 total time=   1.2s\n",
      "[CV 4/10] END ................C=10, solver=saga;, score=0.985 total time=   4.7s\n",
      "[CV 1/10] END ...........C=30, solver=liblinear;, score=0.985 total time=   1.4s\n",
      "[CV 2/10] END .................C=30, solver=sag;, score=0.986 total time=   1.7s\n",
      "[CV 9/10] END alpha=0.01, class_weight=balanced;, score=0.949 total time=   0.2s\n",
      "[CV 3/10] END alpha=0.001, class_weight=balanced;, score=0.950 total time=   0.1s\n",
      "[CV 1/10] END ...alpha=1e-10, class_weight=None;, score=0.970 total time=   0.1s\n",
      "[CV 7/10] END alpha=1e-10, class_weight=balanced;, score=0.955 total time=   0.1s\n",
      "[CV 3/10] END .............C=0.01, solver=lbfgs;, score=0.986 total time=   0.4s\n",
      "[CV 8/10] END ...C=0.01, solver=newton-cholesky;, score=0.987 total time=   0.3s\n",
      "[CV 10/10] END ..............C=0.01, solver=sag;, score=0.985 total time=   1.8s\n",
      "[CV 3/10] END ....C=0.1, solver=newton-cholesky;, score=0.986 total time=   0.4s\n",
      "[CV 3/10] END ...............C=0.1, solver=saga;, score=0.986 total time=   3.2s\n",
      "[CV 8/10] END ................C=5, solver=lbfgs;, score=0.987 total time=   0.5s\n",
      "[CV 10/10] END ...........C=5, solver=liblinear;, score=0.986 total time=   1.5s\n",
      "[CV 4/10] END ..................C=5, solver=sag;, score=0.985 total time=   1.9s\n",
      "[CV 3/10] END ...........C=10, solver=newton-cg;, score=0.986 total time=   1.6s\n",
      "[CV 8/10] END ................C=10, solver=saga;, score=0.987 total time=   3.5s\n",
      "[CV 3/10] END ...............C=30, solver=lbfgs;, score=0.986 total time=   0.3s\n",
      "[CV 6/10] END ...............C=30, solver=lbfgs;, score=0.987 total time=   0.4s\n",
      "[CV 9/10] END ...............C=30, solver=lbfgs;, score=0.986 total time=   0.4s\n",
      "[CV 7/10] END ...........C=30, solver=liblinear;, score=0.987 total time=   1.5s\n",
      "[CV 10/10] END ................C=30, solver=sag;, score=0.986 total time=   1.6s\n",
      "[CV 2/10] END ....alpha=0.01, class_weight=None;, score=0.969 total time=   0.2s\n",
      "[CV 4/10] END alpha=0.001, class_weight=balanced;, score=0.952 total time=   0.2s\n",
      "[CV 7/10] END ...alpha=1e-10, class_weight=None;, score=0.969 total time=   0.2s\n",
      "[CV 5/10] END .............C=0.01, solver=lbfgs;, score=0.987 total time=   0.4s\n",
      "[CV 7/10] END ...C=0.01, solver=newton-cholesky;, score=0.987 total time=   0.4s\n",
      "[CV 9/10] END ...............C=0.01, solver=sag;, score=0.985 total time=   2.1s\n",
      "[CV 7/10] END ................C=0.1, solver=sag;, score=0.987 total time=   2.4s\n",
      "[CV 8/10] END ......C=1, solver=newton-cholesky;, score=0.987 total time=   0.4s\n",
      "[CV 4/10] END .................C=1, solver=saga;, score=0.985 total time=   4.1s\n",
      "[CV 1/10] END ...........C=10, solver=liblinear;, score=0.985 total time=   1.4s\n",
      "[CV 3/10] END .................C=10, solver=sag;, score=0.986 total time=   2.1s\n",
      "[CV 5/10] END ...........C=20, solver=newton-cg;, score=0.987 total time=   1.8s\n",
      "[CV 1/10] END ...............C=30, solver=lbfgs;, score=0.985 total time=   0.4s\n",
      "[CV 5/10] END ...............C=30, solver=lbfgs;, score=0.987 total time=   0.4s\n",
      "[CV 8/10] END ...............C=30, solver=lbfgs;, score=0.987 total time=   0.4s\n",
      "[CV 5/10] END ...........C=30, solver=liblinear;, score=0.987 total time=   1.4s\n",
      "[CV 6/10] END .................C=30, solver=sag;, score=0.987 total time=   1.7s\n",
      "[CV 6/10] END .....alpha=0.1, class_weight=None;, score=0.969 total time=   0.3s\n",
      "[CV 6/10] END ...alpha=1e-11, class_weight=None;, score=0.969 total time=   0.2s\n",
      "[CV 9/10] END .........C=0.01, solver=newton-cg;, score=0.985 total time=   1.2s\n",
      "[CV 6/10] END ..............C=0.1, solver=lbfgs;, score=0.987 total time=   0.4s\n",
      "[CV 6/10] END ..........C=0.1, solver=liblinear;, score=0.987 total time=   0.9s\n",
      "[CV 5/10] END ....C=0.1, solver=newton-cholesky;, score=0.987 total time=   0.3s\n",
      "[CV 2/10] END ...............C=0.1, solver=saga;, score=0.986 total time=   3.4s\n",
      "[CV 4/10] END ............C=5, solver=liblinear;, score=0.985 total time=   0.6s\n",
      "[CV 5/10] END ............C=5, solver=newton-cg;, score=0.987 total time=   1.0s\n",
      "[CV 8/10] END ......C=5, solver=newton-cholesky;, score=0.987 total time=   0.2s\n",
      "[CV 9/10] END ..................C=5, solver=sag;, score=0.986 total time=   1.8s\n",
      "[CV 1/10] END ...........C=10, solver=newton-cg;, score=0.985 total time=   1.1s\n",
      "[CV 1/10] END .................C=10, solver=sag;, score=0.985 total time=   2.1s\n",
      "[CV 2/10] END ...........C=20, solver=newton-cg;, score=0.986 total time=   1.4s\n",
      "[CV 5/10] END ................C=20, solver=saga;, score=0.987 total time=   4.7s\n",
      "[CV 5/10] END ....alpha=0.01, class_weight=None;, score=0.970 total time=   0.2s\n",
      "[CV 8/10] END ...alpha=0.001, class_weight=None;, score=0.970 total time=   0.1s\n",
      "[CV 10/10] END .alpha=0.0001, class_weight=None;, score=0.970 total time=   0.2s\n",
      "[CV 3/10] END ...alpha=1e-11, class_weight=None;, score=0.969 total time=   0.2s\n",
      "[CV 5/10] END .........C=0.01, solver=newton-cg;, score=0.987 total time=   1.7s\n",
      "[CV 8/10] END ..........C=0.1, solver=liblinear;, score=0.987 total time=   1.2s\n",
      "[CV 4/10] END ...............C=0.1, solver=saga;, score=0.985 total time=   3.0s\n",
      "[CV 5/10] END ................C=5, solver=lbfgs;, score=0.987 total time=   0.4s\n",
      "[CV 9/10] END ............C=5, solver=liblinear;, score=0.986 total time=   1.2s\n",
      "[CV 1/10] END ......C=5, solver=newton-cholesky;, score=0.985 total time=   0.4s\n",
      "[CV 10/10] END .....C=5, solver=newton-cholesky;, score=0.986 total time=   0.3s\n",
      "[CV 7/10] END .................C=5, solver=saga;, score=0.987 total time=   4.8s\n",
      "[CV 3/10] END ...........C=20, solver=newton-cg;, score=0.986 total time=   1.4s\n",
      "[CV 6/10] END ................C=20, solver=saga;, score=0.987 total time=   4.7s\n",
      "[CV 1/10] END .alpha=0.1, class_weight=balanced;, score=0.950 total time=   0.2s\n",
      "[CV 10/10] END alpha=1e-11, class_weight=balanced;, score=0.952 total time=   0.1s\n",
      "[CV 7/10] END .........C=0.01, solver=newton-cg;, score=0.987 total time=   1.1s\n",
      "[CV 6/10] END ..............C=0.01, solver=saga;, score=0.986 total time=   1.9s\n",
      "[CV 7/10] END ...............C=0.1, solver=saga;, score=0.987 total time=   3.3s\n",
      "[CV 3/10] END ............C=5, solver=liblinear;, score=0.986 total time=   0.7s\n",
      "[CV 4/10] END ............C=5, solver=newton-cg;, score=0.985 total time=   1.0s\n",
      "[CV 7/10] END ......C=5, solver=newton-cholesky;, score=0.987 total time=   0.2s\n",
      "[CV 6/10] END ..................C=5, solver=sag;, score=0.987 total time=   2.1s\n",
      "[CV 9/10] END ...........C=10, solver=newton-cg;, score=0.986 total time=   1.1s\n",
      "[CV 3/10] END ................C=10, solver=saga;, score=0.986 total time=   4.8s\n",
      "[CV 6/10] END ...........C=30, solver=liblinear;, score=0.987 total time=   0.8s\n",
      "[CV 4/10] END .....C=30, solver=newton-cholesky;, score=0.985 total time=   0.3s\n",
      "[CV 8/10] END .....C=30, solver=newton-cholesky;, score=0.987 total time=   0.3s\n",
      "[CV 7/10] END .................C=30, solver=sag;, score=0.987 total time=   1.7s\n",
      "[CV 1/10] END alpha=0.01, class_weight=balanced;, score=0.950 total time=   0.3s\n",
      "[CV 10/10] END alpha=0.1, class_weight=balanced;, score=0.952 total time=   0.1s\n",
      "[CV 8/10] END ..alpha=0.0001, class_weight=None;, score=0.970 total time=   0.2s\n",
      "[CV 8/10] END alpha=1e-10, class_weight=balanced;, score=0.948 total time=   0.2s\n",
      "[CV 1/10] END .........C=0.01, solver=newton-cg;, score=0.985 total time=   1.7s\n",
      "[CV 7/10] END ..........C=0.1, solver=liblinear;, score=0.987 total time=   1.1s\n",
      "[CV 3/10] END ................C=0.1, solver=sag;, score=0.986 total time=   2.1s\n",
      "[CV 1/10] END ......C=1, solver=newton-cholesky;, score=0.985 total time=   0.4s\n",
      "[CV 9/10] END ......C=1, solver=newton-cholesky;, score=0.986 total time=   0.4s\n",
      "[CV 5/10] END .................C=1, solver=saga;, score=0.987 total time=   4.1s\n",
      "[CV 2/10] END ...........C=10, solver=liblinear;, score=0.986 total time=   1.5s\n",
      "[CV 5/10] END .................C=10, solver=sag;, score=0.987 total time=   1.9s\n",
      "[CV 10/10] END ..........C=20, solver=liblinear;, score=0.986 total time=   1.5s\n",
      "[CV 2/10] END ................C=20, solver=saga;, score=0.986 total time=   4.8s\n",
      "[CV 9/10] END .....alpha=0.1, class_weight=None;, score=0.970 total time=   0.2s\n",
      "[CV 2/10] END ...alpha=1e-11, class_weight=None;, score=0.969 total time=   0.1s\n",
      "[CV 7/10] END .............C=0.01, solver=lbfgs;, score=0.987 total time=   0.3s\n",
      "[CV 3/10] END ...C=0.01, solver=newton-cholesky;, score=0.986 total time=   0.4s\n",
      "[CV 5/10] END ...............C=0.01, solver=sag;, score=0.987 total time=   1.8s\n",
      "[CV 10/10] END .........C=0.1, solver=newton-cg;, score=0.986 total time=   1.1s\n",
      "[CV 2/10] END ............C=1, solver=liblinear;, score=0.986 total time=   0.8s\n",
      "[CV 5/10] END ............C=1, solver=newton-cg;, score=0.987 total time=   1.3s\n",
      "[CV 7/10] END .................C=1, solver=saga;, score=0.987 total time=   3.9s\n",
      "[CV 8/10] END ...............C=10, solver=lbfgs;, score=0.987 total time=   0.4s\n",
      "[CV 2/10] END ...........C=10, solver=newton-cg;, score=0.986 total time=   1.7s\n",
      "[CV 9/10] END ................C=10, solver=saga;, score=0.986 total time=   4.4s\n",
      "[CV 2/10] END ...........C=30, solver=liblinear;, score=0.986 total time=   1.4s\n",
      "[CV 1/10] END .................C=30, solver=sag;, score=0.985 total time=   1.9s\n",
      "[CV 2/10] END .....alpha=0.1, class_weight=None;, score=0.969 total time=   0.2s\n",
      "[CV 2/10] END ...alpha=0.001, class_weight=None;, score=0.969 total time=   0.1s\n",
      "[CV 7/10] END ..alpha=0.0001, class_weight=None;, score=0.969 total time=   0.1s\n",
      "[CV 6/10] END ...alpha=1e-10, class_weight=None;, score=0.969 total time=   0.1s\n",
      "[CV 6/10] END alpha=1e-11, class_weight=balanced;, score=0.954 total time=   0.1s\n",
      "[CV 7/10] END .........C=0.01, solver=liblinear;, score=0.986 total time=   0.9s\n",
      "[CV 3/10] END ..............C=0.01, solver=saga;, score=0.986 total time=   1.6s\n",
      "[CV 2/10] END ....C=0.1, solver=newton-cholesky;, score=0.986 total time=   0.2s\n",
      "[CV 1/10] END ................C=0.1, solver=sag;, score=0.985 total time=   2.7s\n",
      "[CV 4/10] END ..................C=1, solver=sag;, score=0.985 total time=   2.9s\n",
      "[CV 1/10] END .................C=5, solver=saga;, score=0.985 total time=   4.9s\n",
      "[CV 1/10] END ...........C=20, solver=newton-cg;, score=0.985 total time=   1.3s\n",
      "[CV 7/10] END .................C=20, solver=sag;, score=0.987 total time=   2.1s\n",
      "[CV 1/10] END .....C=30, solver=newton-cholesky;, score=0.985 total time=   0.2s\n",
      "[CV 3/10] END .....C=30, solver=newton-cholesky;, score=0.986 total time=   0.2s\n",
      "[CV 5/10] END .....C=30, solver=newton-cholesky;, score=0.987 total time=   0.2s\n",
      "[CV 9/10] END .....C=30, solver=newton-cholesky;, score=0.986 total time=   0.2s\n",
      "[CV 4/10] END .................C=30, solver=sag;, score=0.985 total time=   1.8s\n",
      "[CV 2/10] END alpha=0.01, class_weight=balanced;, score=0.951 total time=   0.2s\n",
      "[CV 8/10] END .alpha=0.1, class_weight=balanced;, score=0.948 total time=   0.1s\n",
      "[CV 2/10] END alpha=0.001, class_weight=balanced;, score=0.951 total time=   0.1s\n",
      "[CV 5/10] END alpha=0.0001, class_weight=balanced;, score=0.951 total time=   0.2s\n",
      "[CV 7/10] END alpha=1e-11, class_weight=balanced;, score=0.955 total time=   0.1s\n",
      "[CV 6/10] END .........C=0.01, solver=liblinear;, score=0.986 total time=   1.2s\n",
      "[CV 9/10] END ..............C=0.01, solver=saga;, score=0.985 total time=   1.7s\n",
      "[CV 8/10] END ................C=0.1, solver=sag;, score=0.987 total time=   2.2s\n",
      "[CV 5/10] END ......C=1, solver=newton-cholesky;, score=0.987 total time=   0.4s\n",
      "[CV 8/10] END ..................C=1, solver=sag;, score=0.987 total time=   2.4s\n",
      "[CV 6/10] END ......C=5, solver=newton-cholesky;, score=0.987 total time=   0.4s\n",
      "[CV 3/10] END .................C=5, solver=saga;, score=0.986 total time=   4.3s\n",
      "[CV 8/10] END ...............C=20, solver=lbfgs;, score=0.987 total time=   0.4s\n",
      "[CV 4/10] END ...........C=20, solver=liblinear;, score=0.985 total time=   1.1s\n",
      "[CV 6/10] END .....C=20, solver=newton-cholesky;, score=0.987 total time=   0.3s\n",
      "[CV 2/10] END .................C=20, solver=sag;, score=0.986 total time=   2.2s\n",
      "[CV 7/10] END ...........C=30, solver=newton-cg;, score=0.987 total time=   1.0s\n",
      "[CV 5/10] END .................C=30, solver=sag;, score=0.987 total time=   1.8s\n",
      "[CV 10/10] END ...alpha=0.01, class_weight=None;, score=0.970 total time=   0.2s\n",
      "[CV 9/10] END alpha=0.001, class_weight=balanced;, score=0.949 total time=   0.1s\n",
      "[CV 5/10] END ...alpha=1e-10, class_weight=None;, score=0.970 total time=   0.1s\n",
      "[CV 9/10] END alpha=1e-11, class_weight=balanced;, score=0.949 total time=   0.1s\n",
      "[CV 6/10] END .........C=0.01, solver=newton-cg;, score=0.986 total time=   1.3s\n",
      "[CV 8/10] END ..............C=0.1, solver=lbfgs;, score=0.987 total time=   0.2s\n",
      "[CV 1/10] END ..........C=0.1, solver=liblinear;, score=0.985 total time=   0.6s\n",
      "[CV 4/10] END ..........C=0.1, solver=newton-cg;, score=0.985 total time=   1.0s\n",
      "[CV 3/10] END ................C=1, solver=lbfgs;, score=0.986 total time=   0.3s\n",
      "[CV 9/10] END ................C=1, solver=lbfgs;, score=0.986 total time=   0.3s\n",
      "[CV 6/10] END ............C=1, solver=liblinear;, score=0.987 total time=   0.7s\n",
      "[CV 6/10] END ............C=1, solver=newton-cg;, score=0.987 total time=   1.1s\n",
      "[CV 6/10] END ..................C=1, solver=sag;, score=0.987 total time=   2.8s\n",
      "[CV 2/10] END .................C=5, solver=saga;, score=0.986 total time=   4.8s\n",
      "[CV 8/10] END ...........C=20, solver=liblinear;, score=0.987 total time=   0.7s\n",
      "[CV 3/10] END .....C=20, solver=newton-cholesky;, score=0.986 total time=   0.3s\n",
      "[CV 7/10] END .....C=20, solver=newton-cholesky;, score=0.987 total time=   0.3s\n",
      "[CV 4/10] END .................C=20, solver=sag;, score=0.985 total time=   1.8s\n",
      "[CV 4/10] END ...........C=30, solver=liblinear;, score=0.985 total time=   1.5s\n",
      "[CV 9/10] END .................C=30, solver=sag;, score=0.986 total time=   1.8s\n",
      "[CV 1/10] END .....alpha=0.1, class_weight=None;, score=0.970 total time=   0.2s\n",
      "[CV 5/10] END alpha=0.001, class_weight=balanced;, score=0.951 total time=   0.1s\n",
      "[CV 4/10] END ...alpha=1e-10, class_weight=None;, score=0.970 total time=   0.1s\n",
      "[CV 10/10] END ..alpha=1e-11, class_weight=None;, score=0.970 total time=   0.1s\n",
      "[CV 2/10] END ...C=0.01, solver=newton-cholesky;, score=0.986 total time=   0.4s\n",
      "[CV 10/10] END ..C=0.01, solver=newton-cholesky;, score=0.985 total time=   0.3s\n",
      "[CV 2/10] END ..............C=0.01, solver=saga;, score=0.986 total time=   1.7s\n",
      "[CV 1/10] END ....C=0.1, solver=newton-cholesky;, score=0.985 total time=   0.4s\n",
      "[CV 1/10] END ...............C=0.1, solver=saga;, score=0.985 total time=   2.9s\n",
      "[CV 2/10] END ................C=5, solver=lbfgs;, score=0.986 total time=   0.4s\n",
      "[CV 10/10] END ...............C=5, solver=lbfgs;, score=0.986 total time=   0.5s\n",
      "[CV 2/10] END ............C=5, solver=newton-cg;, score=0.986 total time=   1.7s\n",
      "[CV 8/10] END .................C=5, solver=saga;, score=0.987 total time=   3.4s\n",
      "[CV 10/10] END ...............C=10, solver=saga;, score=0.986 total time=   4.8s\n",
      "[CV 9/10] END ...........C=30, solver=newton-cg;, score=0.986 total time=   1.1s\n",
      "[CV 8/10] END .................C=30, solver=sag;, score=0.987 total time=   1.8s\n",
      "[CV 3/10] END ....alpha=0.01, class_weight=None;, score=0.969 total time=   0.2s\n",
      "[CV 8/10] END alpha=0.001, class_weight=balanced;, score=0.948 total time=   0.1s\n",
      "[CV 10/10] END alpha=0.0001, class_weight=balanced;, score=0.952 total time=   0.1s\n",
      "[CV 1/10] END ...alpha=1e-11, class_weight=None;, score=0.970 total time=   0.2s\n",
      "[CV 3/10] END .........C=0.01, solver=newton-cg;, score=0.986 total time=   1.1s\n",
      "[CV 5/10] END ..............C=0.01, solver=saga;, score=0.987 total time=   2.1s\n",
      "[CV 6/10] END ................C=1, solver=lbfgs;, score=0.987 total time=   0.3s\n",
      "[CV 4/10] END ............C=1, solver=liblinear;, score=0.985 total time=   0.6s\n",
      "[CV 3/10] END ............C=1, solver=newton-cg;, score=0.986 total time=   0.9s\n",
      "[CV 6/10] END ......C=1, solver=newton-cholesky;, score=0.987 total time=   0.2s\n",
      "[CV 3/10] END ..................C=1, solver=sag;, score=0.986 total time=   2.9s\n",
      "[CV 5/10] END .................C=5, solver=saga;, score=0.987 total time=   5.1s\n",
      "[CV 10/10] END ..........C=20, solver=newton-cg;, score=0.986 total time=   1.3s\n",
      "[CV 7/10] END ................C=20, solver=saga;, score=0.987 total time=   4.8s\n",
      "[CV 6/10] END ....alpha=0.01, class_weight=None;, score=0.969 total time=   0.2s\n",
      "[CV 6/10] END ..alpha=0.0001, class_weight=None;, score=0.969 total time=   0.2s\n",
      "[CV 5/10] END alpha=1e-10, class_weight=balanced;, score=0.951 total time=   0.1s\n",
      "[CV 2/10] END .............C=0.01, solver=lbfgs;, score=0.986 total time=   0.3s\n",
      "[CV 4/10] END ...C=0.01, solver=newton-cholesky;, score=0.985 total time=   0.4s\n",
      "[CV 6/10] END ...............C=0.01, solver=sag;, score=0.986 total time=   2.5s\n",
      "[CV 4/10] END ................C=1, solver=lbfgs;, score=0.985 total time=   0.3s\n",
      "[CV 1/10] END ............C=1, solver=liblinear;, score=0.985 total time=   0.8s\n",
      "[CV 4/10] END ............C=1, solver=newton-cg;, score=0.985 total time=   1.2s\n",
      "[CV 10/10] END .................C=1, solver=sag;, score=0.986 total time=   2.9s\n",
      "[CV 10/10] END ................C=5, solver=saga;, score=0.986 total time=   4.8s\n",
      "[CV 7/10] END ...........C=20, solver=newton-cg;, score=0.987 total time=   1.2s\n",
      "[CV 8/10] END .................C=20, solver=sag;, score=0.987 total time=   2.1s\n",
      "[CV 10/10] END ..........C=30, solver=newton-cg;, score=0.986 total time=   1.4s\n",
      "[CV 8/10] END ................C=30, solver=saga;, score=0.987 total time=   2.0s\n",
      "[CV 7/10] END alpha=0.01, class_weight=balanced;, score=0.955 total time=   0.2s\n",
      "[CV 6/10] END ...alpha=0.001, class_weight=None;, score=0.969 total time=   0.1s\n",
      "[CV 8/10] END alpha=0.0001, class_weight=balanced;, score=0.948 total time=   0.1s\n",
      "[CV 6/10] END alpha=1e-10, class_weight=balanced;, score=0.954 total time=   0.1s\n",
      "[CV 4/10] END .............C=0.01, solver=lbfgs;, score=0.985 total time=   0.4s\n",
      "[CV 9/10] END ...C=0.01, solver=newton-cholesky;, score=0.985 total time=   0.3s\n",
      "[CV 1/10] END ..............C=0.01, solver=saga;, score=0.985 total time=   2.0s\n",
      "[CV 2/10] END ................C=0.1, solver=sag;, score=0.986 total time=   2.7s\n",
      "[CV 5/10] END ..................C=1, solver=sag;, score=0.987 total time=   2.2s\n",
      "[CV 2/10] END ......C=5, solver=newton-cholesky;, score=0.986 total time=   0.4s\n",
      "[CV 2/10] END ..................C=5, solver=sag;, score=0.986 total time=   1.6s\n",
      "[CV 10/10] END ..............C=10, solver=lbfgs;, score=0.986 total time=   0.5s\n",
      "[CV 6/10] END ...........C=10, solver=newton-cg;, score=0.987 total time=   1.8s\n",
      "[CV 3/10] END ...............C=20, solver=lbfgs;, score=0.986 total time=   0.3s\n",
      "[CV 6/10] END ...............C=20, solver=lbfgs;, score=0.987 total time=   0.4s\n",
      "[CV 10/10] END ..............C=20, solver=lbfgs;, score=0.986 total time=   0.4s\n",
      "[CV 7/10] END ...........C=20, solver=liblinear;, score=0.987 total time=   1.5s\n",
      "[CV 10/10] END ................C=20, solver=sag;, score=0.986 total time=   1.7s\n",
      "[CV 10/10] END ..........C=30, solver=liblinear;, score=0.986 total time=   1.5s\n",
      "[CV 4/10] END ................C=30, solver=saga;, score=0.985 total time=   2.5s\n",
      "[CV 4/10] END alpha=0.01, class_weight=balanced;, score=0.952 total time=   0.2s\n",
      "[CV 5/10] END ...alpha=0.001, class_weight=None;, score=0.970 total time=   0.1s\n",
      "[CV 4/10] END alpha=0.0001, class_weight=balanced;, score=0.952 total time=   0.1s\n",
      "[CV 2/10] END alpha=1e-10, class_weight=balanced;, score=0.951 total time=   0.2s\n",
      "[CV 3/10] END .........C=0.01, solver=liblinear;, score=0.986 total time=   1.1s\n",
      "[CV 4/10] END ..............C=0.01, solver=saga;, score=0.985 total time=   1.6s\n",
      "[CV 8/10] END ....C=0.1, solver=newton-cholesky;, score=0.987 total time=   0.4s\n",
      "[CV 1/10] END ................C=1, solver=lbfgs;, score=0.985 total time=   0.5s\n",
      "[CV 3/10] END ............C=1, solver=liblinear;, score=0.986 total time=   1.3s\n",
      "[CV 2/10] END ......C=1, solver=newton-cholesky;, score=0.986 total time=   0.4s\n",
      "[CV 10/10] END .....C=1, solver=newton-cholesky;, score=0.986 total time=   0.4s\n",
      "[CV 6/10] END .................C=1, solver=saga;, score=0.987 total time=   4.1s\n",
      "[CV 8/10] END ...........C=10, solver=liblinear;, score=0.987 total time=   1.5s\n",
      "[CV 9/10] END .................C=10, solver=sag;, score=0.986 total time=   1.7s\n",
      "[CV 6/10] END ...........C=20, solver=liblinear;, score=0.987 total time=   1.5s\n",
      "[CV 5/10] END .................C=20, solver=sag;, score=0.987 total time=   1.8s\n",
      "[CV 9/10] END ...........C=30, solver=liblinear;, score=0.986 total time=   1.5s\n",
      "[CV 3/10] END ................C=30, solver=saga;, score=0.986 total time=   2.6s\n",
      "[CV 10/10] END ....alpha=0.1, class_weight=None;, score=0.970 total time=   0.2s\n",
      "[CV 1/10] END alpha=1e-11, class_weight=balanced;, score=0.950 total time=   0.1s\n",
      "[CV 10/10] END ............C=0.01, solver=lbfgs;, score=0.985 total time=   0.7s\n",
      "[CV 4/10] END ...............C=0.01, solver=sag;, score=0.985 total time=   1.6s\n",
      "[CV 6/10] END ..........C=0.1, solver=newton-cg;, score=0.987 total time=   1.6s\n",
      "[CV 10/10] END ...........C=1, solver=liblinear;, score=0.986 total time=   1.0s\n",
      "[CV 3/10] END ......C=1, solver=newton-cholesky;, score=0.986 total time=   0.4s\n",
      "[CV 2/10] END ..................C=1, solver=sag;, score=0.986 total time=   2.4s\n",
      "[CV 4/10] END ......C=5, solver=newton-cholesky;, score=0.985 total time=   0.4s\n",
      "[CV 7/10] END ..................C=5, solver=sag;, score=0.987 total time=   1.7s\n",
      "[CV 10/10] END ..........C=10, solver=liblinear;, score=0.986 total time=   1.5s\n",
      "[CV 6/10] END ................C=10, solver=saga;, score=0.987 total time=   4.8s\n",
      "[CV 2/10] END ...........C=30, solver=newton-cg;, score=0.986 total time=   1.9s\n",
      "[CV 10/10] END ...............C=30, solver=saga;, score=0.986 total time=   2.2s\n",
      "[CV 3/10] END .....alpha=0.1, class_weight=None;, score=0.969 total time=   0.2s\n",
      "[CV 10/10] END alpha=0.001, class_weight=balanced;, score=0.952 total time=   0.2s\n",
      "[CV 3/10] END alpha=1e-10, class_weight=balanced;, score=0.950 total time=   0.1s\n",
      "[CV 1/10] END .............C=0.01, solver=lbfgs;, score=0.985 total time=   0.3s\n",
      "[CV 6/10] END ...C=0.01, solver=newton-cholesky;, score=0.986 total time=   0.4s\n",
      "[CV 8/10] END ...............C=0.01, solver=sag;, score=0.987 total time=   2.3s\n",
      "[CV 8/10] END ...............C=0.1, solver=saga;, score=0.987 total time=   2.8s\n",
      "[CV 10/10] END ................C=1, solver=saga;, score=0.986 total time=   5.0s\n",
      "[CV 7/10] END .....C=10, solver=newton-cholesky;, score=0.987 total time=   0.4s\n",
      "[CV 6/10] END .................C=10, solver=sag;, score=0.987 total time=   2.4s\n",
      "[CV 2/10] END .....C=20, solver=newton-cholesky;, score=0.986 total time=   0.3s\n",
      "[CV 5/10] END .....C=20, solver=newton-cholesky;, score=0.987 total time=   0.3s\n",
      "[CV 1/10] END .................C=20, solver=sag;, score=0.985 total time=   2.2s\n",
      "[CV 5/10] END ...........C=30, solver=newton-cg;, score=0.987 total time=   1.4s\n",
      "[CV 7/10] END ................C=30, solver=saga;, score=0.987 total time=   2.6s\n",
      "[CV 8/10] END alpha=0.01, class_weight=balanced;, score=0.948 total time=   0.2s\n",
      "[CV 1/10] END ..alpha=0.0001, class_weight=None;, score=0.970 total time=   0.2s\n",
      "[CV 9/10] END ...alpha=1e-10, class_weight=None;, score=0.970 total time=   0.1s\n",
      "[CV 8/10] END alpha=1e-11, class_weight=balanced;, score=0.948 total time=   0.1s\n",
      "[CV 9/10] END .........C=0.01, solver=liblinear;, score=0.985 total time=   1.2s\n",
      "[CV 3/10] END ..............C=0.1, solver=lbfgs;, score=0.986 total time=   0.4s\n",
      "[CV 3/10] END ..........C=0.1, solver=liblinear;, score=0.986 total time=   1.1s\n",
      "[CV 10/10] END ...C=0.1, solver=newton-cholesky;, score=0.986 total time=   0.3s\n",
      "[CV 6/10] END ...............C=0.1, solver=saga;, score=0.987 total time=   3.1s\n",
      "[CV 6/10] END ................C=5, solver=lbfgs;, score=0.987 total time=   0.3s\n",
      "[CV 7/10] END ............C=5, solver=liblinear;, score=0.987 total time=   0.7s\n",
      "[CV 6/10] END ............C=5, solver=newton-cg;, score=0.987 total time=   1.1s\n",
      "[CV 1/10] END ..................C=5, solver=sag;, score=0.985 total time=   1.8s\n",
      "[CV 9/10] END ...........C=10, solver=liblinear;, score=0.986 total time=   0.7s\n",
      "[CV 3/10] END .....C=10, solver=newton-cholesky;, score=0.986 total time=   0.2s\n",
      "[CV 6/10] END .....C=10, solver=newton-cholesky;, score=0.987 total time=   0.3s\n",
      "[CV 10/10] END ....C=10, solver=newton-cholesky;, score=0.986 total time=   0.2s\n",
      "[CV 2/10] END ................C=10, solver=saga;, score=0.986 total time=   4.8s\n",
      "[CV 3/10] END ...........C=30, solver=liblinear;, score=0.986 total time=   0.7s\n",
      "[CV 2/10] END .....C=30, solver=newton-cholesky;, score=0.986 total time=   0.3s\n",
      "[CV 6/10] END .....C=30, solver=newton-cholesky;, score=0.987 total time=   0.3s\n",
      "[CV 10/10] END ....C=30, solver=newton-cholesky;, score=0.986 total time=   0.3s\n",
      "[CV 1/10] END ................C=30, solver=saga;, score=0.985 total time=   2.8s\n",
      "[CV 9/10] END ....alpha=0.01, class_weight=None;, score=0.970 total time=   0.2s\n",
      "[CV 6/10] END alpha=0.001, class_weight=balanced;, score=0.954 total time=   0.1s\n",
      "[CV 2/10] END ...alpha=1e-10, class_weight=None;, score=0.969 total time=   0.1s\n",
      "[CV 7/10] END ...alpha=1e-11, class_weight=None;, score=0.969 total time=   0.1s\n",
      "[CV 4/10] END .........C=0.01, solver=newton-cg;, score=0.985 total time=   1.8s\n",
      "[CV 10/10] END .........C=0.1, solver=liblinear;, score=0.986 total time=   1.2s\n",
      "[CV 9/10] END ...............C=0.1, solver=saga;, score=0.986 total time=   3.2s\n",
      "[CV 2/10] END ............C=5, solver=liblinear;, score=0.986 total time=   0.6s\n",
      "[CV 3/10] END ............C=5, solver=newton-cg;, score=0.986 total time=   0.9s\n",
      "[CV 5/10] END ......C=5, solver=newton-cholesky;, score=0.987 total time=   0.2s\n",
      "[CV 3/10] END ..................C=5, solver=sag;, score=0.986 total time=   2.2s\n",
      "[CV 10/10] END ..........C=10, solver=newton-cg;, score=0.986 total time=   1.1s\n",
      "[CV 5/10] END ................C=10, solver=saga;, score=0.987 total time=   5.0s\n",
      "[CV 4/10] END ...........C=30, solver=newton-cg;, score=0.985 total time=   1.4s\n",
      "[CV 5/10] END ................C=30, solver=saga;, score=0.987 total time=   2.7s\n",
      "[CV 4/10] END ....alpha=0.01, class_weight=None;, score=0.970 total time=   0.2s\n",
      "[CV 3/10] END ..alpha=0.0001, class_weight=None;, score=0.969 total time=   0.1s\n",
      "[CV 9/10] END alpha=0.0001, class_weight=balanced;, score=0.949 total time=   0.1s\n",
      "[CV 9/10] END ...alpha=1e-11, class_weight=None;, score=0.970 total time=   0.1s\n",
      "[CV 9/10] END .............C=0.01, solver=lbfgs;, score=0.985 total time=   0.6s\n",
      "[CV 1/10] END ...............C=0.01, solver=sag;, score=0.985 total time=   1.6s\n",
      "[CV 5/10] END ..........C=0.1, solver=newton-cg;, score=0.987 total time=   1.2s\n",
      "[CV 7/10] END ................C=1, solver=lbfgs;, score=0.987 total time=   0.3s\n",
      "[CV 7/10] END ............C=1, solver=liblinear;, score=0.987 total time=   0.8s\n",
      "[CV 8/10] END ............C=1, solver=newton-cg;, score=0.987 total time=   1.2s\n",
      "[CV 8/10] END .................C=1, solver=saga;, score=0.987 total time=   3.3s\n",
      "[CV 3/10] END ...............C=10, solver=lbfgs;, score=0.986 total time=   0.2s\n",
      "[CV 4/10] END ...............C=10, solver=lbfgs;, score=0.985 total time=   0.2s\n",
      "[CV 7/10] END ...............C=10, solver=lbfgs;, score=0.987 total time=   0.2s\n",
      "[CV 5/10] END ...........C=10, solver=liblinear;, score=0.987 total time=   0.7s\n",
      "[CV 2/10] END .....C=10, solver=newton-cholesky;, score=0.986 total time=   0.3s\n",
      "[CV 5/10] END .....C=10, solver=newton-cholesky;, score=0.987 total time=   0.3s\n",
      "[CV 2/10] END .................C=10, solver=sag;, score=0.986 total time=   2.4s\n",
      "[CV 1/10] END .....C=20, solver=newton-cholesky;, score=0.985 total time=   0.3s\n",
      "[CV 4/10] END .....C=20, solver=newton-cholesky;, score=0.985 total time=   0.3s\n",
      "[CV 9/10] END .....C=20, solver=newton-cholesky;, score=0.986 total time=   0.4s\n",
      "[CV 9/10] END .................C=20, solver=sag;, score=0.986 total time=   1.8s\n",
      "[CV 3/10] END ...........C=30, solver=newton-cg;, score=0.986 total time=   1.8s\n",
      "[CV 9/10] END ................C=30, solver=saga;, score=0.986 total time=   2.4s\n",
      "[CV 3/10] END alpha=0.01, class_weight=balanced;, score=0.950 total time=   0.2s\n",
      "[CV 3/10] END ...alpha=0.001, class_weight=None;, score=0.969 total time=   0.1s\n",
      "[CV 2/10] END alpha=0.0001, class_weight=balanced;, score=0.951 total time=   0.2s\n",
      "[CV 4/10] END alpha=1e-11, class_weight=balanced;, score=0.952 total time=   0.1s\n",
      "[CV 2/10] END .........C=0.01, solver=liblinear;, score=0.985 total time=   1.2s\n",
      "[CV 8/10] END ..............C=0.01, solver=saga;, score=0.987 total time=   1.6s\n",
      "[CV 5/10] END ................C=0.1, solver=sag;, score=0.987 total time=   2.5s\n",
      "[CV 1/10] END ..................C=1, solver=sag;, score=0.985 total time=   2.4s\n",
      "[CV 3/10] END ......C=5, solver=newton-cholesky;, score=0.986 total time=   0.4s\n",
      "[CV 5/10] END ..................C=5, solver=sag;, score=0.987 total time=   2.0s\n",
      "[CV 5/10] END ...........C=10, solver=newton-cg;, score=0.987 total time=   1.8s\n",
      "[CV 2/10] END ...............C=20, solver=lbfgs;, score=0.986 total time=   0.3s\n",
      "[CV 5/10] END ...............C=20, solver=lbfgs;, score=0.987 total time=   0.3s\n",
      "[CV 9/10] END ...............C=20, solver=lbfgs;, score=0.986 total time=   0.4s\n",
      "[CV 5/10] END ...........C=20, solver=liblinear;, score=0.987 total time=   1.5s\n",
      "[CV 6/10] END .................C=20, solver=sag;, score=0.987 total time=   1.8s\n",
      "[CV 8/10] END ...........C=30, solver=liblinear;, score=0.987 total time=   1.5s\n",
      "[CV 2/10] END ................C=30, solver=saga;, score=0.986 total time=   2.8s\n",
      "[CV 2/10] END .alpha=0.1, class_weight=balanced;, score=0.951 total time=   0.2s\n",
      "[CV 3/10] END alpha=1e-11, class_weight=balanced;, score=0.950 total time=   0.1s\n",
      "[CV 1/10] END .........C=0.01, solver=liblinear;, score=0.984 total time=   1.2s\n",
      "[CV 7/10] END ..............C=0.01, solver=saga;, score=0.987 total time=   1.5s\n",
      "[CV 7/10] END ....C=0.1, solver=newton-cholesky;, score=0.987 total time=   0.4s\n",
      "[CV 10/10] END ..............C=0.1, solver=saga;, score=0.986 total time=   2.8s\n",
      "[CV 4/10] END ................C=5, solver=lbfgs;, score=0.985 total time=   0.4s\n",
      "[CV 5/10] END ............C=5, solver=liblinear;, score=0.987 total time=   1.3s\n",
      "[CV 10/10] END ...........C=5, solver=newton-cg;, score=0.986 total time=   1.4s\n",
      "[CV 2/10] END ...............C=10, solver=lbfgs;, score=0.986 total time=   0.3s\n",
      "[CV 5/10] END ...............C=10, solver=lbfgs;, score=0.987 total time=   0.3s\n",
      "[CV 9/10] END ...............C=10, solver=lbfgs;, score=0.986 total time=   0.4s\n",
      "[CV 4/10] END ...........C=10, solver=newton-cg;, score=0.985 total time=   1.7s\n",
      "[CV 1/10] END ...............C=20, solver=lbfgs;, score=0.985 total time=   0.4s\n",
      "[CV 4/10] END ...............C=20, solver=lbfgs;, score=0.985 total time=   0.3s\n",
      "[CV 7/10] END ...............C=20, solver=lbfgs;, score=0.987 total time=   0.4s\n",
      "[CV 3/10] END ...........C=20, solver=liblinear;, score=0.986 total time=   1.4s\n",
      "[CV 3/10] END .................C=20, solver=sag;, score=0.986 total time=   2.3s\n",
      "[CV 8/10] END ...........C=30, solver=newton-cg;, score=0.987 total time=   1.3s\n",
      "[CV 6/10] END ................C=30, solver=saga;, score=0.987 total time=   2.7s\n"
     ]
    }
   ],
   "source": [
    "#model5\n",
    "best_LogR = LogisticRegression( penalty='l2', solver= 'lbfgs', C=1)\n",
    "X_proc = preprocessor.fit_transform(df_train[[\"age\",\"total_pages_visited\",\"country\",\"new_user\",\"source\"]])\n",
    "best_LogR.fit(X_proc,Y)\n",
    "X_test_comp = preprocessor.transform(df_test)\n",
    "Y_test_comp =best_LogR.predict(X_test_comp)\n",
    "df_test_pred = pd.DataFrame(data=Y_test_comp, columns=['converted'])\n",
    "df_test_pred.to_csv('conversion_data_test_predictions_REDA-model5.csv', index=False)"
   ]
  },
  {
   "cell_type": "markdown",
   "id": "a0c886fa-601b-4881-a0b9-16eabe3f16c0",
   "metadata": {},
   "source": [
    "### Ridge"
   ]
  },
  {
   "cell_type": "code",
   "execution_count": 23,
   "id": "c7266b0a-28d8-49c5-bfdb-95ec34036643",
   "metadata": {
    "tags": []
   },
   "outputs": [
    {
     "name": "stdout",
     "output_type": "stream",
     "text": [
      "Fitting 10 folds for each of 12 candidates, totalling 120 fits\n",
      "Best hyperparameters :  {'alpha': 0.01, 'class_weight': None}\n",
      "Best validation accuracy :  0.9695691913782332\n"
     ]
    }
   ],
   "source": [
    "model = RidgeClassifier()\n",
    "params = {\n",
    "    'alpha': [1e-2, 1e-1, 1e-3,1e-4,1e-10,1e-11],\n",
    "    'class_weight':[None, 'balanced']\n",
    "}\n",
    "gridsearch = GridSearchCV(model, param_grid = params, cv = 10, n_jobs=-1, verbose=3) # cv : the number of folds to be used for CV\n",
    "gridsearch.fit(X_train, Y_train)\n",
    "print(\"Best hyperparameters : \", gridsearch.best_params_)\n",
    "print(\"Best validation accuracy : \", gridsearch.best_score_)"
   ]
  },
  {
   "cell_type": "code",
   "execution_count": 24,
   "id": "dd36d210-014e-4ff2-9518-33ab6f829ada",
   "metadata": {
    "tags": []
   },
   "outputs": [
    {
     "name": "stdout",
     "output_type": "stream",
     "text": [
      "0.9694989106753813\n",
      "[[-0.02202347  0.18138024  0.08250978  0.07193744  0.05161908 -0.08126819\n",
      "  -0.00789379 -0.00226407]]\n",
      "              precision    recall  f1-score   support\n",
      "\n",
      "           0       0.97      1.00      0.98     82620\n",
      "           1       1.00      0.05      0.10      2754\n",
      "\n",
      "    accuracy                           0.97     85374\n",
      "   macro avg       0.98      0.53      0.54     85374\n",
      "weighted avg       0.97      0.97      0.96     85374\n",
      "\n"
     ]
    }
   ],
   "source": [
    "best_ridge= RidgeClassifier(0.01)\n",
    "best_ridge.fit(X_train,Y_train)\n",
    "Y_test_pred = best_ridge.predict(X_test)\n",
    "print(best_ridge.score(X_test, Y_test))\n",
    "print(best_ridge.coef_)\n",
    "print(classification_report(y_true = Y_test, y_pred=best_ridge.predict(X_test)))\n"
   ]
  },
  {
   "cell_type": "code",
   "execution_count": 37,
   "id": "89ff3d64-daf7-403c-a6c6-1363e987fa4d",
   "metadata": {
    "tags": []
   },
   "outputs": [
    {
     "data": {
      "text/plain": [
       "array([[4],\n",
       "       [7],\n",
       "       [1],\n",
       "       ...,\n",
       "       [1],\n",
       "       [9],\n",
       "       [8]])"
      ]
     },
     "execution_count": 37,
     "metadata": {},
     "output_type": "execute_result"
    }
   ],
   "source": [
    "X_train_sel.values.reshape(-1, 1)"
   ]
  },
  {
   "cell_type": "markdown",
   "id": "377ad327-67fc-4ff4-b204-6b3ddcf56c23",
   "metadata": {},
   "source": [
    "### FEATURE SELECTION"
   ]
  },
  {
   "cell_type": "code",
   "execution_count": 41,
   "id": "6efcd792-739d-4bd6-8a6d-84c5d12b72db",
   "metadata": {
    "tags": []
   },
   "outputs": [
    {
     "name": "stdout",
     "output_type": "stream",
     "text": [
      "0.9823014032375196\n",
      "0.9832384566729918\n",
      "              precision    recall  f1-score   support\n",
      "\n",
      "           0       0.99      1.00      0.99     82620\n",
      "           1       0.81      0.59      0.68      2754\n",
      "\n",
      "    accuracy                           0.98     85374\n",
      "   macro avg       0.90      0.79      0.84     85374\n",
      "weighted avg       0.98      0.98      0.98     85374\n",
      "\n",
      "0.5925925925925926\n"
     ]
    }
   ],
   "source": [
    "\n",
    "X_sel = df_train[[\"total_pages_visited\"]]\n",
    "Y_sel = df_train[\"converted\"]\n",
    "X_train_sel, X_test_sel, Y_train_sel, Y_test_sel = train_test_split(X_sel, Y_sel, test_size = 0.3, random_state = 0, stratify=Y)\n",
    "scaler = StandardScaler()\n",
    "X_train_sel = scaler.fit_transform(X_train_sel)\n",
    "X_test_sel = scaler.transform(X_test_sel)\n",
    "best_LogR = LogisticRegression( penalty='l2', solver= 'lbfgs', C=1)\n",
    "best_LogR.fit(X_train_sel, Y_train_sel)\n",
    "print(best_LogR.score(X_test_sel,Y_test_sel))\n",
    "print(best_LogR.score(X_train_sel,Y_train_sel))\n",
    "print(classification_report(y_true = Y_test, y_pred=best_LogR.predict(X_test_sel)))\n",
    "print(recall_score(y_true = Y_test, y_pred=best_LogR.predict(X_test_sel)))\n",
    "\n",
    "\n"
   ]
  },
  {
   "cell_type": "code",
   "execution_count": 43,
   "id": "78e32861-fd73-4bb7-a2a8-46c896184263",
   "metadata": {
    "tags": []
   },
   "outputs": [],
   "source": [
    "# model5-1feature\n",
    "best_LogR = LogisticRegression( penalty='l2', solver= 'lbfgs', C=1)\n",
    "scaler = StandardScaler()\n",
    "X_proc = scaler.fit_transform(df_train[[\"total_pages_visited\"]])\n",
    "best_LogR.fit(X_proc,Y)\n",
    "X_test_comp = scaler.transform(df_test[[\"total_pages_visited\"]])\n",
    "Y_test_comp =best_LogR.predict(X_test_comp)\n",
    "df_test_pred = pd.DataFrame(data=Y_test_comp, columns=['converted'])\n",
    "df_test_pred.to_csv('conversion_data_test_predictions_REDA-model5-1feature.csv', index=False)"
   ]
  },
  {
   "cell_type": "markdown",
   "id": "325c9c66-149c-4740-ae74-767a4072894a",
   "metadata": {},
   "source": [
    "### SVM"
   ]
  },
  {
   "cell_type": "code",
   "execution_count": 62,
   "id": "b0b288be-6bb3-4e81-bcb7-501851fe6899",
   "metadata": {
    "tags": []
   },
   "outputs": [
    {
     "name": "stdout",
     "output_type": "stream",
     "text": [
      "Fitting 3 folds for each of 24 candidates, totalling 72 fits\n",
      "...Done.\n",
      "Best hyperparameters :  {'C': 7, 'class_weight': {0: 1, 1: 2}, 'gamma': 1e-05, 'kernel': 'linear'}\n",
      "Best validation accuracy :  0.8810834478102058\n"
     ]
    }
   ],
   "source": [
    "classifier = SVC(gamma= 1e-5,)\n",
    "\n",
    "params = {\n",
    "    'kernel':['linear', 'poly', 'rbf'],\n",
    "    'C' :[10,7],\n",
    "    'class_weight':[{0:1,1:2},{0:1,1:3}]\n",
    "}\n",
    "gridsearch = GridSearchCV(classifier, param_grid = params, cv = 3, n_jobs=-1, verbose=1,scoring='f1_macro') # cv : the number of folds to be used for CV\n",
    "gridsearch.fit(X_train, Y_train)\n",
    "print(\"...Done.\")\n",
    "print(\"Best hyperparameters : \", gridsearch.best_params_)\n",
    "print(\"Best validation accuracy : \", gridsearch.best_score_)\n"
   ]
  },
  {
   "cell_type": "code",
   "execution_count": 63,
   "id": "de2e0a60-3e52-4f92-a094-3963bce8df30",
   "metadata": {
    "tags": []
   },
   "outputs": [
    {
     "name": "stdout",
     "output_type": "stream",
     "text": [
      "              precision    recall  f1-score   support\n",
      "\n",
      "           0       0.99      0.99      0.99     82620\n",
      "           1       0.77      0.76      0.77      2754\n",
      "\n",
      "    accuracy                           0.98     85374\n",
      "   macro avg       0.88      0.88      0.88     85374\n",
      "weighted avg       0.98      0.98      0.98     85374\n",
      "\n"
     ]
    },
    {
     "data": {
      "text/plain": [
       "<sklearn.metrics._plot.confusion_matrix.ConfusionMatrixDisplay at 0x7f9c3ec2b310>"
      ]
     },
     "execution_count": 63,
     "metadata": {},
     "output_type": "execute_result"
    },
    {
     "data": {
      "image/png": "[encoded data removed]",
      "text/plain": [
       "<Figure size 640x480 with 2 Axes>"
      ]
     },
     "metadata": {},
     "output_type": "display_data"
    }
   ],
   "source": [
    "best_svm = SVC(kernel = 'linear', C= 7, gamma=1e-5, class_weight= {0: 1, 1: 2})\n",
    "best_svm.fit(X_train,Y_train)\n",
    "Y_test_pred = best_svm.predict(X_test)\n",
    "print(classification_report(y_true = Y_test, y_pred=best_svm.predict(X_test)))\n",
    "\n",
    "cm = confusion_matrix(Y_test, Y_test_pred, labels=best_svm.classes_)\n",
    "disp = ConfusionMatrixDisplay(confusion_matrix=cm, display_labels=best_svm.classes_)\n",
    "disp.plot()"
   ]
  },
  {
   "cell_type": "code",
   "execution_count": 18,
   "id": "6b96de7e-5e61-488a-87ff-517d69806867",
   "metadata": {
    "tags": []
   },
   "outputs": [
    {
     "name": "stdout",
     "output_type": "stream",
     "text": [
      "              precision    recall  f1-score   support\n",
      "\n",
      "           0       1.00      0.94      0.97     82620\n",
      "           1       0.35      0.94      0.51      2754\n",
      "\n",
      "    accuracy                           0.94     85374\n",
      "   macro avg       0.67      0.94      0.74     85374\n",
      "weighted avg       0.98      0.94      0.95     85374\n",
      "\n"
     ]
    },
    {
     "data": {
      "text/plain": [
       "<sklearn.metrics._plot.confusion_matrix.ConfusionMatrixDisplay at 0x7f9c657209d0>"
      ]
     },
     "execution_count": 18,
     "metadata": {},
     "output_type": "execute_result"
    },
    {
     "data": {
      "image/png": "[encoded data removed]",
      "text/plain": [
       "<Figure size 640x480 with 2 Axes>"
      ]
     },
     "metadata": {},
     "output_type": "display_data"
    }
   ],
   "source": [
    "best_svm2 = SVC(kernel = 'linear', C= 7, gamma=1e-5, class_weight='balanced')\n",
    "best_svm2.fit(X_train,Y_train)\n",
    "Y_test_pred = best_svm2.predict(X_test)\n",
    "print(classification_report(y_true = Y_test, y_pred=Y_test_pred))\n",
    "\n",
    "cm = confusion_matrix(Y_test, Y_test_pred, labels=best_svm2.classes_)\n",
    "disp = ConfusionMatrixDisplay(confusion_matrix=cm, display_labels=best_svm2.classes_)\n",
    "disp.plot()"
   ]
  },
  {
   "cell_type": "code",
   "execution_count": 19,
   "id": "43044dd7-d287-44fa-baf5-0eea53b46cf3",
   "metadata": {
    "tags": []
   },
   "outputs": [],
   "source": [
    "#model-3\n",
    "best_SVM =  SVC(kernel = 'linear', C= 7, gamma=1e-5)\n",
    "X_proc = preprocessor.fit_transform(df_train[[\"age\",\"total_pages_visited\",\"country\",\"new_user\",\"source\"]])\n",
    "best_SVM.fit(X_proc,Y)\n",
    "X_test_comp = preprocessor.transform(df_test)\n",
    "Y_test_comp =best_SVM.predict(X_test_comp)\n",
    "df_test_pred = pd.DataFrame(data=Y_test_comp, columns=['converted'])\n",
    "df_test_pred.to_csv('conversion_data_test_predictions_REDA-model3.csv', index=False)"
   ]
  },
  {
   "cell_type": "code",
   "execution_count": 20,
   "id": "ce55a5aa-5564-4fe3-a38c-9982388f5633",
   "metadata": {
    "tags": []
   },
   "outputs": [],
   "source": [
    "#model-4\n",
    "best_SVM2 =  SVC(kernel = 'linear', C= 7, gamma=1e-5, class_weight='balanced')\n",
    "X_proc = preprocessor.fit_transform(df_train[[\"age\",\"total_pages_visited\",\"country\",\"new_user\",\"source\"]])\n",
    "best_SVM2.fit(X_proc,Y)\n",
    "X_test_comp = preprocessor.transform(df_test)\n",
    "Y_test_comp =best_SVM2.predict(X_test_comp)\n",
    "df_test_pred = pd.DataFrame(data=Y_test_comp, columns=['converted'])\n",
    "df_test_pred.to_csv('conversion_data_test_predictions_REDA-model4.csv', index=False)"
   ]
  },
  {
   "cell_type": "code",
   "execution_count": 64,
   "id": "f231bda0-81aa-43c4-a332-bf622a6042d9",
   "metadata": {
    "tags": []
   },
   "outputs": [],
   "source": [
    "#model-3customweight\n",
    "best_SVM = SVC(kernel = 'linear', C= 7, gamma=1e-5, class_weight= {0: 1, 1: 2})\n",
    "X_proc = preprocessor.fit_transform(df_train[[\"age\",\"total_pages_visited\",\"country\",\"new_user\",\"source\"]])\n",
    "best_SVM.fit(X_proc,Y)\n",
    "X_test_comp = preprocessor.transform(df_test)\n",
    "Y_test_comp =best_SVM.predict(X_test_comp)\n",
    "df_test_pred = pd.DataFrame(data=Y_test_comp, columns=['converted'])\n",
    "df_test_pred.to_csv('conversion_data_test_predictions_REDA-model3customweight.csv', index=False)"
   ]
  },
  {
   "cell_type": "markdown",
   "id": "cc821692-95f0-4e7d-a107-9935bf357cb5",
   "metadata": {},
   "source": [
    "### RF"
   ]
  },
  {
   "cell_type": "code",
   "execution_count": 65,
   "id": "3df1e3e1-37b3-4ce4-a7b5-6b37ff9183c4",
   "metadata": {
    "tags": []
   },
   "outputs": [
    {
     "name": "stdout",
     "output_type": "stream",
     "text": [
      "...Done.\n",
      "Best hyperparameters :  {'class_weight': {0: 1, 1: 2}, 'max_depth': 20, 'min_samples_split': 7, 'n_estimators': 23}\n"
     ]
    }
   ],
   "source": [
    "regressor = RandomForestClassifier(random_state=0, criterion='entropy')\n",
    "params = {\n",
    "    'n_estimators': [17,20,23],\n",
    "    'max_depth': [17,20,23],\n",
    "    'min_samples_split': [2,3,5,7],\n",
    "    'class_weight': [{0:1,1:2}, {0:1,1:3}]\n",
    "    \n",
    "}\n",
    "grid_random = GridSearchCV(regressor, param_grid = params, cv = 5, n_jobs=-1, scoring='f1_macro') # cv : the number of folds to be used for CV\n",
    "grid_random.fit(X_train, Y_train)\n",
    "print(\"...Done.\")\n",
    "print(\"Best hyperparameters : \", grid_random.best_params_)"
   ]
  },
  {
   "cell_type": "code",
   "execution_count": 66,
   "id": "36ead865-453b-440d-b1b1-1be84297afc6",
   "metadata": {
    "tags": []
   },
   "outputs": [],
   "source": [
    "best_random = RandomForestClassifier(random_state=0, criterion='entropy', class_weight={0: 1, 1: 2}, max_depth= 20, min_samples_split=7, n_estimators=23, bootstrap=True)"
   ]
  },
  {
   "cell_type": "code",
   "execution_count": 67,
   "id": "8f945a36-eaa5-4e6b-a5a3-3583eda28630",
   "metadata": {
    "tags": []
   },
   "outputs": [
    {
     "name": "stdout",
     "output_type": "stream",
     "text": [
      "              precision    recall  f1-score   support\n",
      "\n",
      "           0       0.99      0.99      0.99     82620\n",
      "           1       0.76      0.72      0.74      2754\n",
      "\n",
      "    accuracy                           0.98     85374\n",
      "   macro avg       0.88      0.86      0.87     85374\n",
      "weighted avg       0.98      0.98      0.98     85374\n",
      "\n"
     ]
    },
    {
     "data": {
      "text/plain": [
       "<sklearn.metrics._plot.confusion_matrix.ConfusionMatrixDisplay at 0x7f9c3e366450>"
      ]
     },
     "execution_count": 67,
     "metadata": {},
     "output_type": "execute_result"
    },
    {
     "data": {
      "image/png": "[encoded data removed]",
      "text/plain": [
       "<Figure size 640x480 with 2 Axes>"
      ]
     },
     "metadata": {},
     "output_type": "display_data"
    }
   ],
   "source": [
    "best_random.fit(X_train,Y_train)\n",
    "Y_test_pred = best_random.predict(X_test)\n",
    "print(classification_report(y_true = Y_test, y_pred=best_random.predict(X_test)))\n",
    "\n",
    "cm = confusion_matrix(Y_test, Y_test_pred, labels=best_random.classes_)\n",
    "disp = ConfusionMatrixDisplay(confusion_matrix=cm, display_labels=best_random.classes_)\n",
    "disp.plot()"
   ]
  },
  {
   "cell_type": "code",
   "execution_count": 72,
   "id": "3ffaffed-2237-4cc3-a1a4-21a648b40fa1",
   "metadata": {
    "tags": []
   },
   "outputs": [
    {
     "name": "stderr",
     "output_type": "stream",
     "text": [
      "/home/reda/anaconda3/lib/python3.11/site-packages/sklearn/ensemble/_base.py:166: FutureWarning:\n",
      "\n",
      "`base_estimator` was renamed to `estimator` in version 1.2 and will be removed in 1.4.\n",
      "\n"
     ]
    },
    {
     "ename": "KeyboardInterrupt",
     "evalue": "",
     "output_type": "error",
     "traceback": [
      "\u001b[0;31m---------------------------------------------------------------------------\u001b[0m",
      "\u001b[0;31mKeyboardInterrupt\u001b[0m                         Traceback (most recent call last)",
      "Cell \u001b[0;32mIn[72], line 9\u001b[0m\n\u001b[1;32m      6\u001b[0m votingClf \u001b[38;5;241m=\u001b[39m VotingClassifier([(\u001b[38;5;124m'\u001b[39m\u001b[38;5;124mclf1\u001b[39m\u001b[38;5;124m'\u001b[39m,best_LogR),(\u001b[38;5;124m'\u001b[39m\u001b[38;5;124mclf2\u001b[39m\u001b[38;5;124m'\u001b[39m,best_SVM), (\u001b[38;5;124m'\u001b[39m\u001b[38;5;124mclf3\u001b[39m\u001b[38;5;124m'\u001b[39m,best_random)],voting\u001b[38;5;241m=\u001b[39m\u001b[38;5;124m'\u001b[39m\u001b[38;5;124msoft\u001b[39m\u001b[38;5;124m'\u001b[39m) \u001b[38;5;66;03m#\u001b[39;00m\n\u001b[1;32m      8\u001b[0m adaBoostClassifier \u001b[38;5;241m=\u001b[39m AdaBoostClassifier(base_estimator \u001b[38;5;241m=\u001b[39m votingClf)\n\u001b[0;32m----> 9\u001b[0m adaBoostClassifier\u001b[38;5;241m.\u001b[39mfit(X_train, Y_train)\n\u001b[1;32m     10\u001b[0m \u001b[38;5;28mprint\u001b[39m(classification_report(y_true \u001b[38;5;241m=\u001b[39m Y_test, y_pred\u001b[38;5;241m=\u001b[39madaBoostClassifier\u001b[38;5;241m.\u001b[39mpredict(X_test)))\n\u001b[1;32m     11\u001b[0m \u001b[38;5;28mprint\u001b[39m(classification_report(y_true \u001b[38;5;241m=\u001b[39m Y_test, y_pred\u001b[38;5;241m=\u001b[39madaBoostClassifier\u001b[38;5;241m.\u001b[39mpredict(X_test)))\n",
      "File \u001b[0;32m~/anaconda3/lib/python3.11/site-packages/sklearn/ensemble/_weight_boosting.py:162\u001b[0m, in \u001b[0;36mBaseWeightBoosting.fit\u001b[0;34m(self, X, y, sample_weight)\u001b[0m\n\u001b[1;32m    159\u001b[0m sample_weight[zero_weight_mask] \u001b[38;5;241m=\u001b[39m \u001b[38;5;241m0.0\u001b[39m\n\u001b[1;32m    161\u001b[0m \u001b[38;5;66;03m# Boosting step\u001b[39;00m\n\u001b[0;32m--> 162\u001b[0m sample_weight, estimator_weight, estimator_error \u001b[38;5;241m=\u001b[39m \u001b[38;5;28mself\u001b[39m\u001b[38;5;241m.\u001b[39m_boost(\n\u001b[1;32m    163\u001b[0m     iboost, X, y, sample_weight, random_state\n\u001b[1;32m    164\u001b[0m )\n\u001b[1;32m    166\u001b[0m \u001b[38;5;66;03m# Early termination\u001b[39;00m\n\u001b[1;32m    167\u001b[0m \u001b[38;5;28;01mif\u001b[39;00m sample_weight \u001b[38;5;129;01mis\u001b[39;00m \u001b[38;5;28;01mNone\u001b[39;00m:\n",
      "File \u001b[0;32m~/anaconda3/lib/python3.11/site-packages/sklearn/ensemble/_weight_boosting.py:569\u001b[0m, in \u001b[0;36mAdaBoostClassifier._boost\u001b[0;34m(self, iboost, X, y, sample_weight, random_state)\u001b[0m\n\u001b[1;32m    530\u001b[0m \u001b[38;5;250m\u001b[39m\u001b[38;5;124;03m\"\"\"Implement a single boost.\u001b[39;00m\n\u001b[1;32m    531\u001b[0m \n\u001b[1;32m    532\u001b[0m \u001b[38;5;124;03mPerform a single boost according to the real multi-class SAMME.R\u001b[39;00m\n\u001b[0;32m   (...)\u001b[0m\n\u001b[1;32m    566\u001b[0m \u001b[38;5;124;03m    If None then boosting has terminated early.\u001b[39;00m\n\u001b[1;32m    567\u001b[0m \u001b[38;5;124;03m\"\"\"\u001b[39;00m\n\u001b[1;32m    568\u001b[0m \u001b[38;5;28;01mif\u001b[39;00m \u001b[38;5;28mself\u001b[39m\u001b[38;5;241m.\u001b[39malgorithm \u001b[38;5;241m==\u001b[39m \u001b[38;5;124m\"\u001b[39m\u001b[38;5;124mSAMME.R\u001b[39m\u001b[38;5;124m\"\u001b[39m:\n\u001b[0;32m--> 569\u001b[0m     \u001b[38;5;28;01mreturn\u001b[39;00m \u001b[38;5;28mself\u001b[39m\u001b[38;5;241m.\u001b[39m_boost_real(iboost, X, y, sample_weight, random_state)\n\u001b[1;32m    571\u001b[0m \u001b[38;5;28;01melse\u001b[39;00m:  \u001b[38;5;66;03m# elif self.algorithm == \"SAMME\":\u001b[39;00m\n\u001b[1;32m    572\u001b[0m     \u001b[38;5;28;01mreturn\u001b[39;00m \u001b[38;5;28mself\u001b[39m\u001b[38;5;241m.\u001b[39m_boost_discrete(iboost, X, y, sample_weight, random_state)\n",
      "File \u001b[0;32m~/anaconda3/lib/python3.11/site-packages/sklearn/ensemble/_weight_boosting.py:578\u001b[0m, in \u001b[0;36mAdaBoostClassifier._boost_real\u001b[0;34m(self, iboost, X, y, sample_weight, random_state)\u001b[0m\n\u001b[1;32m    575\u001b[0m \u001b[38;5;250m\u001b[39m\u001b[38;5;124;03m\"\"\"Implement a single boost using the SAMME.R real algorithm.\"\"\"\u001b[39;00m\n\u001b[1;32m    576\u001b[0m estimator \u001b[38;5;241m=\u001b[39m \u001b[38;5;28mself\u001b[39m\u001b[38;5;241m.\u001b[39m_make_estimator(random_state\u001b[38;5;241m=\u001b[39mrandom_state)\n\u001b[0;32m--> 578\u001b[0m estimator\u001b[38;5;241m.\u001b[39mfit(X, y, sample_weight\u001b[38;5;241m=\u001b[39msample_weight)\n\u001b[1;32m    580\u001b[0m y_predict_proba \u001b[38;5;241m=\u001b[39m estimator\u001b[38;5;241m.\u001b[39mpredict_proba(X)\n\u001b[1;32m    582\u001b[0m \u001b[38;5;28;01mif\u001b[39;00m iboost \u001b[38;5;241m==\u001b[39m \u001b[38;5;241m0\u001b[39m:\n",
      "File \u001b[0;32m~/anaconda3/lib/python3.11/site-packages/sklearn/ensemble/_voting.py:346\u001b[0m, in \u001b[0;36mVotingClassifier.fit\u001b[0;34m(self, X, y, sample_weight)\u001b[0m\n\u001b[1;32m    343\u001b[0m \u001b[38;5;28mself\u001b[39m\u001b[38;5;241m.\u001b[39mclasses_ \u001b[38;5;241m=\u001b[39m \u001b[38;5;28mself\u001b[39m\u001b[38;5;241m.\u001b[39mle_\u001b[38;5;241m.\u001b[39mclasses_\n\u001b[1;32m    344\u001b[0m transformed_y \u001b[38;5;241m=\u001b[39m \u001b[38;5;28mself\u001b[39m\u001b[38;5;241m.\u001b[39mle_\u001b[38;5;241m.\u001b[39mtransform(y)\n\u001b[0;32m--> 346\u001b[0m \u001b[38;5;28;01mreturn\u001b[39;00m \u001b[38;5;28msuper\u001b[39m()\u001b[38;5;241m.\u001b[39mfit(X, transformed_y, sample_weight)\n",
      "File \u001b[0;32m~/anaconda3/lib/python3.11/site-packages/sklearn/ensemble/_voting.py:81\u001b[0m, in \u001b[0;36m_BaseVoting.fit\u001b[0;34m(self, X, y, sample_weight)\u001b[0m\n\u001b[1;32m     75\u001b[0m \u001b[38;5;28;01mif\u001b[39;00m \u001b[38;5;28mself\u001b[39m\u001b[38;5;241m.\u001b[39mweights \u001b[38;5;129;01mis\u001b[39;00m \u001b[38;5;129;01mnot\u001b[39;00m \u001b[38;5;28;01mNone\u001b[39;00m \u001b[38;5;129;01mand\u001b[39;00m \u001b[38;5;28mlen\u001b[39m(\u001b[38;5;28mself\u001b[39m\u001b[38;5;241m.\u001b[39mweights) \u001b[38;5;241m!=\u001b[39m \u001b[38;5;28mlen\u001b[39m(\u001b[38;5;28mself\u001b[39m\u001b[38;5;241m.\u001b[39mestimators):\n\u001b[1;32m     76\u001b[0m     \u001b[38;5;28;01mraise\u001b[39;00m \u001b[38;5;167;01mValueError\u001b[39;00m(\n\u001b[1;32m     77\u001b[0m         \u001b[38;5;124m\"\u001b[39m\u001b[38;5;124mNumber of `estimators` and weights must be equal; got\u001b[39m\u001b[38;5;124m\"\u001b[39m\n\u001b[1;32m     78\u001b[0m         \u001b[38;5;124mf\u001b[39m\u001b[38;5;124m\"\u001b[39m\u001b[38;5;124m \u001b[39m\u001b[38;5;132;01m{\u001b[39;00m\u001b[38;5;28mlen\u001b[39m(\u001b[38;5;28mself\u001b[39m\u001b[38;5;241m.\u001b[39mweights)\u001b[38;5;132;01m}\u001b[39;00m\u001b[38;5;124m weights, \u001b[39m\u001b[38;5;132;01m{\u001b[39;00m\u001b[38;5;28mlen\u001b[39m(\u001b[38;5;28mself\u001b[39m\u001b[38;5;241m.\u001b[39mestimators)\u001b[38;5;132;01m}\u001b[39;00m\u001b[38;5;124m estimators\u001b[39m\u001b[38;5;124m\"\u001b[39m\n\u001b[1;32m     79\u001b[0m     )\n\u001b[0;32m---> 81\u001b[0m \u001b[38;5;28mself\u001b[39m\u001b[38;5;241m.\u001b[39mestimators_ \u001b[38;5;241m=\u001b[39m Parallel(n_jobs\u001b[38;5;241m=\u001b[39m\u001b[38;5;28mself\u001b[39m\u001b[38;5;241m.\u001b[39mn_jobs)(\n\u001b[1;32m     82\u001b[0m     delayed(_fit_single_estimator)(\n\u001b[1;32m     83\u001b[0m         clone(clf),\n\u001b[1;32m     84\u001b[0m         X,\n\u001b[1;32m     85\u001b[0m         y,\n\u001b[1;32m     86\u001b[0m         sample_weight\u001b[38;5;241m=\u001b[39msample_weight,\n\u001b[1;32m     87\u001b[0m         message_clsname\u001b[38;5;241m=\u001b[39m\u001b[38;5;124m\"\u001b[39m\u001b[38;5;124mVoting\u001b[39m\u001b[38;5;124m\"\u001b[39m,\n\u001b[1;32m     88\u001b[0m         message\u001b[38;5;241m=\u001b[39m\u001b[38;5;28mself\u001b[39m\u001b[38;5;241m.\u001b[39m_log_message(names[idx], idx \u001b[38;5;241m+\u001b[39m \u001b[38;5;241m1\u001b[39m, \u001b[38;5;28mlen\u001b[39m(clfs)),\n\u001b[1;32m     89\u001b[0m     )\n\u001b[1;32m     90\u001b[0m     \u001b[38;5;28;01mfor\u001b[39;00m idx, clf \u001b[38;5;129;01min\u001b[39;00m \u001b[38;5;28menumerate\u001b[39m(clfs)\n\u001b[1;32m     91\u001b[0m     \u001b[38;5;28;01mif\u001b[39;00m clf \u001b[38;5;241m!=\u001b[39m \u001b[38;5;124m\"\u001b[39m\u001b[38;5;124mdrop\u001b[39m\u001b[38;5;124m\"\u001b[39m\n\u001b[1;32m     92\u001b[0m )\n\u001b[1;32m     94\u001b[0m \u001b[38;5;28mself\u001b[39m\u001b[38;5;241m.\u001b[39mnamed_estimators_ \u001b[38;5;241m=\u001b[39m Bunch()\n\u001b[1;32m     96\u001b[0m \u001b[38;5;66;03m# Uses 'drop' as placeholder for dropped estimators\u001b[39;00m\n",
      "File \u001b[0;32m~/anaconda3/lib/python3.11/site-packages/sklearn/utils/parallel.py:63\u001b[0m, in \u001b[0;36mParallel.__call__\u001b[0;34m(self, iterable)\u001b[0m\n\u001b[1;32m     58\u001b[0m config \u001b[38;5;241m=\u001b[39m get_config()\n\u001b[1;32m     59\u001b[0m iterable_with_config \u001b[38;5;241m=\u001b[39m (\n\u001b[1;32m     60\u001b[0m     (_with_config(delayed_func, config), args, kwargs)\n\u001b[1;32m     61\u001b[0m     \u001b[38;5;28;01mfor\u001b[39;00m delayed_func, args, kwargs \u001b[38;5;129;01min\u001b[39;00m iterable\n\u001b[1;32m     62\u001b[0m )\n\u001b[0;32m---> 63\u001b[0m \u001b[38;5;28;01mreturn\u001b[39;00m \u001b[38;5;28msuper\u001b[39m()\u001b[38;5;241m.\u001b[39m\u001b[38;5;21m__call__\u001b[39m(iterable_with_config)\n",
      "File \u001b[0;32m~/anaconda3/lib/python3.11/site-packages/joblib/parallel.py:1088\u001b[0m, in \u001b[0;36mParallel.__call__\u001b[0;34m(self, iterable)\u001b[0m\n\u001b[1;32m   1085\u001b[0m \u001b[38;5;28;01mif\u001b[39;00m \u001b[38;5;28mself\u001b[39m\u001b[38;5;241m.\u001b[39mdispatch_one_batch(iterator):\n\u001b[1;32m   1086\u001b[0m     \u001b[38;5;28mself\u001b[39m\u001b[38;5;241m.\u001b[39m_iterating \u001b[38;5;241m=\u001b[39m \u001b[38;5;28mself\u001b[39m\u001b[38;5;241m.\u001b[39m_original_iterator \u001b[38;5;129;01mis\u001b[39;00m \u001b[38;5;129;01mnot\u001b[39;00m \u001b[38;5;28;01mNone\u001b[39;00m\n\u001b[0;32m-> 1088\u001b[0m \u001b[38;5;28;01mwhile\u001b[39;00m \u001b[38;5;28mself\u001b[39m\u001b[38;5;241m.\u001b[39mdispatch_one_batch(iterator):\n\u001b[1;32m   1089\u001b[0m     \u001b[38;5;28;01mpass\u001b[39;00m\n\u001b[1;32m   1091\u001b[0m \u001b[38;5;28;01mif\u001b[39;00m pre_dispatch \u001b[38;5;241m==\u001b[39m \u001b[38;5;124m\"\u001b[39m\u001b[38;5;124mall\u001b[39m\u001b[38;5;124m\"\u001b[39m \u001b[38;5;129;01mor\u001b[39;00m n_jobs \u001b[38;5;241m==\u001b[39m \u001b[38;5;241m1\u001b[39m:\n\u001b[1;32m   1092\u001b[0m     \u001b[38;5;66;03m# The iterable was consumed all at once by the above for loop.\u001b[39;00m\n\u001b[1;32m   1093\u001b[0m     \u001b[38;5;66;03m# No need to wait for async callbacks to trigger to\u001b[39;00m\n\u001b[1;32m   1094\u001b[0m     \u001b[38;5;66;03m# consumption.\u001b[39;00m\n",
      "File \u001b[0;32m~/anaconda3/lib/python3.11/site-packages/joblib/parallel.py:901\u001b[0m, in \u001b[0;36mParallel.dispatch_one_batch\u001b[0;34m(self, iterator)\u001b[0m\n\u001b[1;32m    899\u001b[0m     \u001b[38;5;28;01mreturn\u001b[39;00m \u001b[38;5;28;01mFalse\u001b[39;00m\n\u001b[1;32m    900\u001b[0m \u001b[38;5;28;01melse\u001b[39;00m:\n\u001b[0;32m--> 901\u001b[0m     \u001b[38;5;28mself\u001b[39m\u001b[38;5;241m.\u001b[39m_dispatch(tasks)\n\u001b[1;32m    902\u001b[0m     \u001b[38;5;28;01mreturn\u001b[39;00m \u001b[38;5;28;01mTrue\u001b[39;00m\n",
      "File \u001b[0;32m~/anaconda3/lib/python3.11/site-packages/joblib/parallel.py:819\u001b[0m, in \u001b[0;36mParallel._dispatch\u001b[0;34m(self, batch)\u001b[0m\n\u001b[1;32m    817\u001b[0m \u001b[38;5;28;01mwith\u001b[39;00m \u001b[38;5;28mself\u001b[39m\u001b[38;5;241m.\u001b[39m_lock:\n\u001b[1;32m    818\u001b[0m     job_idx \u001b[38;5;241m=\u001b[39m \u001b[38;5;28mlen\u001b[39m(\u001b[38;5;28mself\u001b[39m\u001b[38;5;241m.\u001b[39m_jobs)\n\u001b[0;32m--> 819\u001b[0m     job \u001b[38;5;241m=\u001b[39m \u001b[38;5;28mself\u001b[39m\u001b[38;5;241m.\u001b[39m_backend\u001b[38;5;241m.\u001b[39mapply_async(batch, callback\u001b[38;5;241m=\u001b[39mcb)\n\u001b[1;32m    820\u001b[0m     \u001b[38;5;66;03m# A job can complete so quickly than its callback is\u001b[39;00m\n\u001b[1;32m    821\u001b[0m     \u001b[38;5;66;03m# called before we get here, causing self._jobs to\u001b[39;00m\n\u001b[1;32m    822\u001b[0m     \u001b[38;5;66;03m# grow. To ensure correct results ordering, .insert is\u001b[39;00m\n\u001b[1;32m    823\u001b[0m     \u001b[38;5;66;03m# used (rather than .append) in the following line\u001b[39;00m\n\u001b[1;32m    824\u001b[0m     \u001b[38;5;28mself\u001b[39m\u001b[38;5;241m.\u001b[39m_jobs\u001b[38;5;241m.\u001b[39minsert(job_idx, job)\n",
      "File \u001b[0;32m~/anaconda3/lib/python3.11/site-packages/joblib/_parallel_backends.py:208\u001b[0m, in \u001b[0;36mSequentialBackend.apply_async\u001b[0;34m(self, func, callback)\u001b[0m\n\u001b[1;32m    206\u001b[0m \u001b[38;5;28;01mdef\u001b[39;00m \u001b[38;5;21mapply_async\u001b[39m(\u001b[38;5;28mself\u001b[39m, func, callback\u001b[38;5;241m=\u001b[39m\u001b[38;5;28;01mNone\u001b[39;00m):\n\u001b[1;32m    207\u001b[0m \u001b[38;5;250m    \u001b[39m\u001b[38;5;124;03m\"\"\"Schedule a func to be run\"\"\"\u001b[39;00m\n\u001b[0;32m--> 208\u001b[0m     result \u001b[38;5;241m=\u001b[39m ImmediateResult(func)\n\u001b[1;32m    209\u001b[0m     \u001b[38;5;28;01mif\u001b[39;00m callback:\n\u001b[1;32m    210\u001b[0m         callback(result)\n",
      "File \u001b[0;32m~/anaconda3/lib/python3.11/site-packages/joblib/_parallel_backends.py:597\u001b[0m, in \u001b[0;36mImmediateResult.__init__\u001b[0;34m(self, batch)\u001b[0m\n\u001b[1;32m    594\u001b[0m \u001b[38;5;28;01mdef\u001b[39;00m \u001b[38;5;21m__init__\u001b[39m(\u001b[38;5;28mself\u001b[39m, batch):\n\u001b[1;32m    595\u001b[0m     \u001b[38;5;66;03m# Don't delay the application, to avoid keeping the input\u001b[39;00m\n\u001b[1;32m    596\u001b[0m     \u001b[38;5;66;03m# arguments in memory\u001b[39;00m\n\u001b[0;32m--> 597\u001b[0m     \u001b[38;5;28mself\u001b[39m\u001b[38;5;241m.\u001b[39mresults \u001b[38;5;241m=\u001b[39m batch()\n",
      "File \u001b[0;32m~/anaconda3/lib/python3.11/site-packages/joblib/parallel.py:288\u001b[0m, in \u001b[0;36mBatchedCalls.__call__\u001b[0;34m(self)\u001b[0m\n\u001b[1;32m    284\u001b[0m \u001b[38;5;28;01mdef\u001b[39;00m \u001b[38;5;21m__call__\u001b[39m(\u001b[38;5;28mself\u001b[39m):\n\u001b[1;32m    285\u001b[0m     \u001b[38;5;66;03m# Set the default nested backend to self._backend but do not set the\u001b[39;00m\n\u001b[1;32m    286\u001b[0m     \u001b[38;5;66;03m# change the default number of processes to -1\u001b[39;00m\n\u001b[1;32m    287\u001b[0m     \u001b[38;5;28;01mwith\u001b[39;00m parallel_backend(\u001b[38;5;28mself\u001b[39m\u001b[38;5;241m.\u001b[39m_backend, n_jobs\u001b[38;5;241m=\u001b[39m\u001b[38;5;28mself\u001b[39m\u001b[38;5;241m.\u001b[39m_n_jobs):\n\u001b[0;32m--> 288\u001b[0m         \u001b[38;5;28;01mreturn\u001b[39;00m [func(\u001b[38;5;241m*\u001b[39margs, \u001b[38;5;241m*\u001b[39m\u001b[38;5;241m*\u001b[39mkwargs)\n\u001b[1;32m    289\u001b[0m                 \u001b[38;5;28;01mfor\u001b[39;00m func, args, kwargs \u001b[38;5;129;01min\u001b[39;00m \u001b[38;5;28mself\u001b[39m\u001b[38;5;241m.\u001b[39mitems]\n",
      "File \u001b[0;32m~/anaconda3/lib/python3.11/site-packages/joblib/parallel.py:288\u001b[0m, in \u001b[0;36m<listcomp>\u001b[0;34m(.0)\u001b[0m\n\u001b[1;32m    284\u001b[0m \u001b[38;5;28;01mdef\u001b[39;00m \u001b[38;5;21m__call__\u001b[39m(\u001b[38;5;28mself\u001b[39m):\n\u001b[1;32m    285\u001b[0m     \u001b[38;5;66;03m# Set the default nested backend to self._backend but do not set the\u001b[39;00m\n\u001b[1;32m    286\u001b[0m     \u001b[38;5;66;03m# change the default number of processes to -1\u001b[39;00m\n\u001b[1;32m    287\u001b[0m     \u001b[38;5;28;01mwith\u001b[39;00m parallel_backend(\u001b[38;5;28mself\u001b[39m\u001b[38;5;241m.\u001b[39m_backend, n_jobs\u001b[38;5;241m=\u001b[39m\u001b[38;5;28mself\u001b[39m\u001b[38;5;241m.\u001b[39m_n_jobs):\n\u001b[0;32m--> 288\u001b[0m         \u001b[38;5;28;01mreturn\u001b[39;00m [func(\u001b[38;5;241m*\u001b[39margs, \u001b[38;5;241m*\u001b[39m\u001b[38;5;241m*\u001b[39mkwargs)\n\u001b[1;32m    289\u001b[0m                 \u001b[38;5;28;01mfor\u001b[39;00m func, args, kwargs \u001b[38;5;129;01min\u001b[39;00m \u001b[38;5;28mself\u001b[39m\u001b[38;5;241m.\u001b[39mitems]\n",
      "File \u001b[0;32m~/anaconda3/lib/python3.11/site-packages/sklearn/utils/parallel.py:123\u001b[0m, in \u001b[0;36m_FuncWrapper.__call__\u001b[0;34m(self, *args, **kwargs)\u001b[0m\n\u001b[1;32m    121\u001b[0m     config \u001b[38;5;241m=\u001b[39m {}\n\u001b[1;32m    122\u001b[0m \u001b[38;5;28;01mwith\u001b[39;00m config_context(\u001b[38;5;241m*\u001b[39m\u001b[38;5;241m*\u001b[39mconfig):\n\u001b[0;32m--> 123\u001b[0m     \u001b[38;5;28;01mreturn\u001b[39;00m \u001b[38;5;28mself\u001b[39m\u001b[38;5;241m.\u001b[39mfunction(\u001b[38;5;241m*\u001b[39margs, \u001b[38;5;241m*\u001b[39m\u001b[38;5;241m*\u001b[39mkwargs)\n",
      "File \u001b[0;32m~/anaconda3/lib/python3.11/site-packages/sklearn/ensemble/_base.py:35\u001b[0m, in \u001b[0;36m_fit_single_estimator\u001b[0;34m(estimator, X, y, sample_weight, message_clsname, message)\u001b[0m\n\u001b[1;32m     33\u001b[0m \u001b[38;5;28;01mtry\u001b[39;00m:\n\u001b[1;32m     34\u001b[0m     \u001b[38;5;28;01mwith\u001b[39;00m _print_elapsed_time(message_clsname, message):\n\u001b[0;32m---> 35\u001b[0m         estimator\u001b[38;5;241m.\u001b[39mfit(X, y, sample_weight\u001b[38;5;241m=\u001b[39msample_weight)\n\u001b[1;32m     36\u001b[0m \u001b[38;5;28;01mexcept\u001b[39;00m \u001b[38;5;167;01mTypeError\u001b[39;00m \u001b[38;5;28;01mas\u001b[39;00m exc:\n\u001b[1;32m     37\u001b[0m     \u001b[38;5;28;01mif\u001b[39;00m \u001b[38;5;124m\"\u001b[39m\u001b[38;5;124munexpected keyword argument \u001b[39m\u001b[38;5;124m'\u001b[39m\u001b[38;5;124msample_weight\u001b[39m\u001b[38;5;124m'\u001b[39m\u001b[38;5;124m\"\u001b[39m \u001b[38;5;129;01min\u001b[39;00m \u001b[38;5;28mstr\u001b[39m(exc):\n",
      "File \u001b[0;32m~/anaconda3/lib/python3.11/site-packages/sklearn/svm/_base.py:252\u001b[0m, in \u001b[0;36mBaseLibSVM.fit\u001b[0;34m(self, X, y, sample_weight)\u001b[0m\n\u001b[1;32m    249\u001b[0m     \u001b[38;5;28mprint\u001b[39m(\u001b[38;5;124m\"\u001b[39m\u001b[38;5;124m[LibSVM]\u001b[39m\u001b[38;5;124m\"\u001b[39m, end\u001b[38;5;241m=\u001b[39m\u001b[38;5;124m\"\u001b[39m\u001b[38;5;124m\"\u001b[39m)\n\u001b[1;32m    251\u001b[0m seed \u001b[38;5;241m=\u001b[39m rnd\u001b[38;5;241m.\u001b[39mrandint(np\u001b[38;5;241m.\u001b[39miinfo(\u001b[38;5;124m\"\u001b[39m\u001b[38;5;124mi\u001b[39m\u001b[38;5;124m\"\u001b[39m)\u001b[38;5;241m.\u001b[39mmax)\n\u001b[0;32m--> 252\u001b[0m fit(X, y, sample_weight, solver_type, kernel, random_seed\u001b[38;5;241m=\u001b[39mseed)\n\u001b[1;32m    253\u001b[0m \u001b[38;5;66;03m# see comment on the other call to np.iinfo in this file\u001b[39;00m\n\u001b[1;32m    255\u001b[0m \u001b[38;5;28mself\u001b[39m\u001b[38;5;241m.\u001b[39mshape_fit_ \u001b[38;5;241m=\u001b[39m X\u001b[38;5;241m.\u001b[39mshape \u001b[38;5;28;01mif\u001b[39;00m \u001b[38;5;28mhasattr\u001b[39m(X, \u001b[38;5;124m\"\u001b[39m\u001b[38;5;124mshape\u001b[39m\u001b[38;5;124m\"\u001b[39m) \u001b[38;5;28;01melse\u001b[39;00m (n_samples,)\n",
      "File \u001b[0;32m~/anaconda3/lib/python3.11/site-packages/sklearn/svm/_base.py:331\u001b[0m, in \u001b[0;36mBaseLibSVM._dense_fit\u001b[0;34m(self, X, y, sample_weight, solver_type, kernel, random_seed)\u001b[0m\n\u001b[1;32m    317\u001b[0m libsvm\u001b[38;5;241m.\u001b[39mset_verbosity_wrap(\u001b[38;5;28mself\u001b[39m\u001b[38;5;241m.\u001b[39mverbose)\n\u001b[1;32m    319\u001b[0m \u001b[38;5;66;03m# we don't pass **self.get_params() to allow subclasses to\u001b[39;00m\n\u001b[1;32m    320\u001b[0m \u001b[38;5;66;03m# add other parameters to __init__\u001b[39;00m\n\u001b[1;32m    321\u001b[0m (\n\u001b[1;32m    322\u001b[0m     \u001b[38;5;28mself\u001b[39m\u001b[38;5;241m.\u001b[39msupport_,\n\u001b[1;32m    323\u001b[0m     \u001b[38;5;28mself\u001b[39m\u001b[38;5;241m.\u001b[39msupport_vectors_,\n\u001b[1;32m    324\u001b[0m     \u001b[38;5;28mself\u001b[39m\u001b[38;5;241m.\u001b[39m_n_support,\n\u001b[1;32m    325\u001b[0m     \u001b[38;5;28mself\u001b[39m\u001b[38;5;241m.\u001b[39mdual_coef_,\n\u001b[1;32m    326\u001b[0m     \u001b[38;5;28mself\u001b[39m\u001b[38;5;241m.\u001b[39mintercept_,\n\u001b[1;32m    327\u001b[0m     \u001b[38;5;28mself\u001b[39m\u001b[38;5;241m.\u001b[39m_probA,\n\u001b[1;32m    328\u001b[0m     \u001b[38;5;28mself\u001b[39m\u001b[38;5;241m.\u001b[39m_probB,\n\u001b[1;32m    329\u001b[0m     \u001b[38;5;28mself\u001b[39m\u001b[38;5;241m.\u001b[39mfit_status_,\n\u001b[1;32m    330\u001b[0m     \u001b[38;5;28mself\u001b[39m\u001b[38;5;241m.\u001b[39m_num_iter,\n\u001b[0;32m--> 331\u001b[0m ) \u001b[38;5;241m=\u001b[39m libsvm\u001b[38;5;241m.\u001b[39mfit(\n\u001b[1;32m    332\u001b[0m     X,\n\u001b[1;32m    333\u001b[0m     y,\n\u001b[1;32m    334\u001b[0m     svm_type\u001b[38;5;241m=\u001b[39msolver_type,\n\u001b[1;32m    335\u001b[0m     sample_weight\u001b[38;5;241m=\u001b[39msample_weight,\n\u001b[1;32m    336\u001b[0m     \u001b[38;5;66;03m# TODO(1.4): Replace \"_class_weight\" with \"class_weight_\"\u001b[39;00m\n\u001b[1;32m    337\u001b[0m     class_weight\u001b[38;5;241m=\u001b[39m\u001b[38;5;28mgetattr\u001b[39m(\u001b[38;5;28mself\u001b[39m, \u001b[38;5;124m\"\u001b[39m\u001b[38;5;124m_class_weight\u001b[39m\u001b[38;5;124m\"\u001b[39m, np\u001b[38;5;241m.\u001b[39mempty(\u001b[38;5;241m0\u001b[39m)),\n\u001b[1;32m    338\u001b[0m     kernel\u001b[38;5;241m=\u001b[39mkernel,\n\u001b[1;32m    339\u001b[0m     C\u001b[38;5;241m=\u001b[39m\u001b[38;5;28mself\u001b[39m\u001b[38;5;241m.\u001b[39mC,\n\u001b[1;32m    340\u001b[0m     nu\u001b[38;5;241m=\u001b[39m\u001b[38;5;28mself\u001b[39m\u001b[38;5;241m.\u001b[39mnu,\n\u001b[1;32m    341\u001b[0m     probability\u001b[38;5;241m=\u001b[39m\u001b[38;5;28mself\u001b[39m\u001b[38;5;241m.\u001b[39mprobability,\n\u001b[1;32m    342\u001b[0m     degree\u001b[38;5;241m=\u001b[39m\u001b[38;5;28mself\u001b[39m\u001b[38;5;241m.\u001b[39mdegree,\n\u001b[1;32m    343\u001b[0m     shrinking\u001b[38;5;241m=\u001b[39m\u001b[38;5;28mself\u001b[39m\u001b[38;5;241m.\u001b[39mshrinking,\n\u001b[1;32m    344\u001b[0m     tol\u001b[38;5;241m=\u001b[39m\u001b[38;5;28mself\u001b[39m\u001b[38;5;241m.\u001b[39mtol,\n\u001b[1;32m    345\u001b[0m     cache_size\u001b[38;5;241m=\u001b[39m\u001b[38;5;28mself\u001b[39m\u001b[38;5;241m.\u001b[39mcache_size,\n\u001b[1;32m    346\u001b[0m     coef0\u001b[38;5;241m=\u001b[39m\u001b[38;5;28mself\u001b[39m\u001b[38;5;241m.\u001b[39mcoef0,\n\u001b[1;32m    347\u001b[0m     gamma\u001b[38;5;241m=\u001b[39m\u001b[38;5;28mself\u001b[39m\u001b[38;5;241m.\u001b[39m_gamma,\n\u001b[1;32m    348\u001b[0m     epsilon\u001b[38;5;241m=\u001b[39m\u001b[38;5;28mself\u001b[39m\u001b[38;5;241m.\u001b[39mepsilon,\n\u001b[1;32m    349\u001b[0m     max_iter\u001b[38;5;241m=\u001b[39m\u001b[38;5;28mself\u001b[39m\u001b[38;5;241m.\u001b[39mmax_iter,\n\u001b[1;32m    350\u001b[0m     random_seed\u001b[38;5;241m=\u001b[39mrandom_seed,\n\u001b[1;32m    351\u001b[0m )\n\u001b[1;32m    353\u001b[0m \u001b[38;5;28mself\u001b[39m\u001b[38;5;241m.\u001b[39m_warn_from_fit_status()\n",
      "\u001b[0;31mKeyboardInterrupt\u001b[0m: "
     ]
    }
   ],
   "source": [
    "best_LogR = LogisticRegression(class_weight={0:1,1:2}, penalty='l2', solver= 'liblinear', C=0.1)\n",
    "best_random = RandomForestClassifier(random_state=0, criterion='entropy', class_weight={0: 1, 1: 2}, \n",
    "                                     max_depth= 20, min_samples_split=7, n_estimators=23, bootstrap=True)\n",
    "best_SVM = SVC(kernel = 'linear', C= 7, gamma=1e-5, class_weight= {0: 1, 1: 2}, probability=True)\n",
    "\n",
    "votingClf = VotingClassifier([('clf1',best_LogR),('clf2',best_SVM), ('clf3',best_random)],voting='soft') #\n",
    "\n",
    "adaBoostClassifier = AdaBoostClassifier(base_estimator = votingClf)\n",
    "adaBoostClassifier.fit(X_train, Y_train)\n",
    "print(classification_report(y_true = Y_test, y_pred=adaBoostClassifier.predict(X_test)))\n",
    "print(classification_report(y_true = Y_test, y_pred=adaBoostClassifier.predict(X_test)))\n",
    "# model 1 to amir"
   ]
  },
  {
   "cell_type": "code",
   "execution_count": 35,
   "id": "eb2dc76f-db5c-4143-b95d-415a49f4f994",
   "metadata": {
    "tags": []
   },
   "outputs": [],
   "source": [
    "#votingClf = VotingClassifier([('clf1',model),('clf2',best_ridge), ('clf3',best_random)],voting='hard') #\n",
    "\n",
    "#adaBoostClassifier = AdaBoostClassifier(base_estimator = votingClf)\n",
    "#adaBoostClassifier.fit(X_train, Y_train)\n",
    "#print(classification_report(y_true = Y_test, y_pred=adaBoostClassifier.predict(X_test)))\n",
    "\n"
   ]
  },
  {
   "cell_type": "code",
   "execution_count": 36,
   "id": "e3b0f271-3f4a-4189-8da9-0eaca30704c9",
   "metadata": {
    "tags": []
   },
   "outputs": [],
   "source": [
    "X_test_comp = preprocessor.transform(df_test)\n",
    "Y_test_comp =adaBoostClassifier.predict(X_test_comp)"
   ]
  },
  {
   "cell_type": "code",
   "execution_count": 37,
   "id": "1e9608ae-87b1-44f8-a190-42f16c227dc8",
   "metadata": {
    "tags": []
   },
   "outputs": [],
   "source": [
    "\n",
    "df_test_pred = pd.DataFrame(data=Y_test_comp, columns=['converted'])\n",
    "df_test_pred.to_csv('conversion_data_test_predictions_REDA-model1.csv', index=False)"
   ]
  },
  {
   "cell_type": "code",
   "execution_count": 118,
   "id": "2462b28b-8d21-4c78-8995-e4e6f9dfcc00",
   "metadata": {
    "tags": []
   },
   "outputs": [
    {
     "ename": "InvalidParameterError",
     "evalue": "The 'estimator' parameter of AdaBoostClassifier must be an object implementing 'fit' and 'predict' or None. Got StackingClassifier(estimators=[('clf1', LogisticRegression()),\n                               ('clf3',\n                                RandomForestClassifier(class_weight='balanced_subsample',\n                                                       criterion='entropy',\n                                                       max_depth=20,\n                                                       min_samples_split=5,\n                                                       n_estimators=20,\n                                                       random_state=0))]) instead.",
     "output_type": "error",
     "traceback": [
      "\u001b[0;31m---------------------------------------------------------------------------\u001b[0m",
      "\u001b[0;31mInvalidParameterError\u001b[0m                     Traceback (most recent call last)",
      "Cell \u001b[0;32mIn[118], line 4\u001b[0m\n\u001b[1;32m      1\u001b[0m votingClf \u001b[38;5;241m=\u001b[39m StackingClassifier(estimators\u001b[38;5;241m=\u001b[39m[(\u001b[38;5;124m'\u001b[39m\u001b[38;5;124mclf1\u001b[39m\u001b[38;5;124m'\u001b[39m,model), (\u001b[38;5;124m'\u001b[39m\u001b[38;5;124mclf3\u001b[39m\u001b[38;5;124m'\u001b[39m,best_random)]) \u001b[38;5;66;03m#\u001b[39;00m\n\u001b[1;32m      3\u001b[0m adaBoostClassifier \u001b[38;5;241m=\u001b[39m AdaBoostClassifier(estimator \u001b[38;5;241m=\u001b[39m votingClf)\n\u001b[0;32m----> 4\u001b[0m adaBoostClassifier\u001b[38;5;241m.\u001b[39mfit(X_train, Y_train)\n\u001b[1;32m      5\u001b[0m \u001b[38;5;28mprint\u001b[39m(classification_report(y_true \u001b[38;5;241m=\u001b[39m Y_test, y_pred\u001b[38;5;241m=\u001b[39madaBoostClassifier\u001b[38;5;241m.\u001b[39mpredict(X_test)))\n",
      "File \u001b[0;32m~/anaconda3/lib/python3.11/site-packages/sklearn/ensemble/_weight_boosting.py:124\u001b[0m, in \u001b[0;36mBaseWeightBoosting.fit\u001b[0;34m(self, X, y, sample_weight)\u001b[0m\n\u001b[1;32m    103\u001b[0m \u001b[38;5;28;01mdef\u001b[39;00m \u001b[38;5;21mfit\u001b[39m(\u001b[38;5;28mself\u001b[39m, X, y, sample_weight\u001b[38;5;241m=\u001b[39m\u001b[38;5;28;01mNone\u001b[39;00m):\n\u001b[1;32m    104\u001b[0m \u001b[38;5;250m    \u001b[39m\u001b[38;5;124;03m\"\"\"Build a boosted classifier/regressor from the training set (X, y).\u001b[39;00m\n\u001b[1;32m    105\u001b[0m \n\u001b[1;32m    106\u001b[0m \u001b[38;5;124;03m    Parameters\u001b[39;00m\n\u001b[0;32m   (...)\u001b[0m\n\u001b[1;32m    122\u001b[0m \u001b[38;5;124;03m        Fitted estimator.\u001b[39;00m\n\u001b[1;32m    123\u001b[0m \u001b[38;5;124;03m    \"\"\"\u001b[39;00m\n\u001b[0;32m--> 124\u001b[0m     \u001b[38;5;28mself\u001b[39m\u001b[38;5;241m.\u001b[39m_validate_params()\n\u001b[1;32m    126\u001b[0m     X, y \u001b[38;5;241m=\u001b[39m \u001b[38;5;28mself\u001b[39m\u001b[38;5;241m.\u001b[39m_validate_data(\n\u001b[1;32m    127\u001b[0m         X,\n\u001b[1;32m    128\u001b[0m         y,\n\u001b[0;32m   (...)\u001b[0m\n\u001b[1;32m    133\u001b[0m         y_numeric\u001b[38;5;241m=\u001b[39mis_regressor(\u001b[38;5;28mself\u001b[39m),\n\u001b[1;32m    134\u001b[0m     )\n\u001b[1;32m    136\u001b[0m     sample_weight \u001b[38;5;241m=\u001b[39m _check_sample_weight(\n\u001b[1;32m    137\u001b[0m         sample_weight, X, np\u001b[38;5;241m.\u001b[39mfloat64, copy\u001b[38;5;241m=\u001b[39m\u001b[38;5;28;01mTrue\u001b[39;00m, only_non_negative\u001b[38;5;241m=\u001b[39m\u001b[38;5;28;01mTrue\u001b[39;00m\n\u001b[1;32m    138\u001b[0m     )\n",
      "File \u001b[0;32m~/anaconda3/lib/python3.11/site-packages/sklearn/base.py:600\u001b[0m, in \u001b[0;36mBaseEstimator._validate_params\u001b[0;34m(self)\u001b[0m\n\u001b[1;32m    592\u001b[0m \u001b[38;5;28;01mdef\u001b[39;00m \u001b[38;5;21m_validate_params\u001b[39m(\u001b[38;5;28mself\u001b[39m):\n\u001b[1;32m    593\u001b[0m \u001b[38;5;250m    \u001b[39m\u001b[38;5;124;03m\"\"\"Validate types and values of constructor parameters\u001b[39;00m\n\u001b[1;32m    594\u001b[0m \n\u001b[1;32m    595\u001b[0m \u001b[38;5;124;03m    The expected type and values must be defined in the `_parameter_constraints`\u001b[39;00m\n\u001b[0;32m   (...)\u001b[0m\n\u001b[1;32m    598\u001b[0m \u001b[38;5;124;03m    accepted constraints.\u001b[39;00m\n\u001b[1;32m    599\u001b[0m \u001b[38;5;124;03m    \"\"\"\u001b[39;00m\n\u001b[0;32m--> 600\u001b[0m     validate_parameter_constraints(\n\u001b[1;32m    601\u001b[0m         \u001b[38;5;28mself\u001b[39m\u001b[38;5;241m.\u001b[39m_parameter_constraints,\n\u001b[1;32m    602\u001b[0m         \u001b[38;5;28mself\u001b[39m\u001b[38;5;241m.\u001b[39mget_params(deep\u001b[38;5;241m=\u001b[39m\u001b[38;5;28;01mFalse\u001b[39;00m),\n\u001b[1;32m    603\u001b[0m         caller_name\u001b[38;5;241m=\u001b[39m\u001b[38;5;28mself\u001b[39m\u001b[38;5;241m.\u001b[39m\u001b[38;5;18m__class__\u001b[39m\u001b[38;5;241m.\u001b[39m\u001b[38;5;18m__name__\u001b[39m,\n\u001b[1;32m    604\u001b[0m     )\n",
      "File \u001b[0;32m~/anaconda3/lib/python3.11/site-packages/sklearn/utils/_param_validation.py:97\u001b[0m, in \u001b[0;36mvalidate_parameter_constraints\u001b[0;34m(parameter_constraints, params, caller_name)\u001b[0m\n\u001b[1;32m     91\u001b[0m \u001b[38;5;28;01melse\u001b[39;00m:\n\u001b[1;32m     92\u001b[0m     constraints_str \u001b[38;5;241m=\u001b[39m (\n\u001b[1;32m     93\u001b[0m         \u001b[38;5;124mf\u001b[39m\u001b[38;5;124m\"\u001b[39m\u001b[38;5;132;01m{\u001b[39;00m\u001b[38;5;124m'\u001b[39m\u001b[38;5;124m, \u001b[39m\u001b[38;5;124m'\u001b[39m\u001b[38;5;241m.\u001b[39mjoin([\u001b[38;5;28mstr\u001b[39m(c)\u001b[38;5;250m \u001b[39m\u001b[38;5;28;01mfor\u001b[39;00m\u001b[38;5;250m \u001b[39mc\u001b[38;5;250m \u001b[39m\u001b[38;5;129;01min\u001b[39;00m\u001b[38;5;250m \u001b[39mconstraints[:\u001b[38;5;241m-\u001b[39m\u001b[38;5;241m1\u001b[39m]])\u001b[38;5;132;01m}\u001b[39;00m\u001b[38;5;124m or\u001b[39m\u001b[38;5;124m\"\u001b[39m\n\u001b[1;32m     94\u001b[0m         \u001b[38;5;124mf\u001b[39m\u001b[38;5;124m\"\u001b[39m\u001b[38;5;124m \u001b[39m\u001b[38;5;132;01m{\u001b[39;00mconstraints[\u001b[38;5;241m-\u001b[39m\u001b[38;5;241m1\u001b[39m]\u001b[38;5;132;01m}\u001b[39;00m\u001b[38;5;124m\"\u001b[39m\n\u001b[1;32m     95\u001b[0m     )\n\u001b[0;32m---> 97\u001b[0m \u001b[38;5;28;01mraise\u001b[39;00m InvalidParameterError(\n\u001b[1;32m     98\u001b[0m     \u001b[38;5;124mf\u001b[39m\u001b[38;5;124m\"\u001b[39m\u001b[38;5;124mThe \u001b[39m\u001b[38;5;132;01m{\u001b[39;00mparam_name\u001b[38;5;132;01m!r}\u001b[39;00m\u001b[38;5;124m parameter of \u001b[39m\u001b[38;5;132;01m{\u001b[39;00mcaller_name\u001b[38;5;132;01m}\u001b[39;00m\u001b[38;5;124m must be\u001b[39m\u001b[38;5;124m\"\u001b[39m\n\u001b[1;32m     99\u001b[0m     \u001b[38;5;124mf\u001b[39m\u001b[38;5;124m\"\u001b[39m\u001b[38;5;124m \u001b[39m\u001b[38;5;132;01m{\u001b[39;00mconstraints_str\u001b[38;5;132;01m}\u001b[39;00m\u001b[38;5;124m. Got \u001b[39m\u001b[38;5;132;01m{\u001b[39;00mparam_val\u001b[38;5;132;01m!r}\u001b[39;00m\u001b[38;5;124m instead.\u001b[39m\u001b[38;5;124m\"\u001b[39m\n\u001b[1;32m    100\u001b[0m )\n",
      "\u001b[0;31mInvalidParameterError\u001b[0m: The 'estimator' parameter of AdaBoostClassifier must be an object implementing 'fit' and 'predict' or None. Got StackingClassifier(estimators=[('clf1', LogisticRegression()),\n                               ('clf3',\n                                RandomForestClassifier(class_weight='balanced_subsample',\n                                                       criterion='entropy',\n                                                       max_depth=20,\n                                                       min_samples_split=5,\n                                                       n_estimators=20,\n                                                       random_state=0))]) instead."
     ]
    }
   ],
   "source": [
    "votingClf = vClassifier(estimators=[('clf1',model), ('clf3',best_random)]) #\n",
    "\n",
    "adaBoostClassifier = AdaBoostClassifier(estimator = votingClf)\n",
    "adaBoostClassifier.fit(X_train, Y_train)\n",
    "print(classification_report(y_true = Y_test, y_pred=adaBoostClassifier.predict(X_test)))\n",
    "\n"
   ]
  },
  {
   "cell_type": "raw",
   "id": "df071d0e-ea58-46e1-b4f2-f2ddfede88a0",
   "metadata": {},
   "source": [
    "px.barplot(df, x='source', hue=''"
   ]
  }
 ],
 "metadata": {
  "kernelspec": {
   "display_name": "Python 3 (ipykernel)",
   "language": "python",
   "name": "python3"
  },
  "language_info": {
   "codemirror_mode": {
    "name": "ipython",
    "version": 3
   },
   "file_extension": ".py",
   "mimetype": "text/x-python",
   "name": "python",
   "nbconvert_exporter": "python",
   "pygments_lexer": "ipython3",
   "version": "3.11.3"
  }
 },
 "nbformat": 4,
 "nbformat_minor": 5
}
